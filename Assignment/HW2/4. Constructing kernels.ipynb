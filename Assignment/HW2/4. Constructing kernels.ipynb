{
 "cells": [
  {
   "cell_type": "markdown",
   "metadata": {
    "deletable": true,
    "editable": true
   },
   "source": [
    "Assume $u \\in \\mathbb{R}^{n}$.  \n",
    "\n",
    "We need to prove for arbitrary u: $$ u^TKu = \\sum_{i,j}^{m} u_i u_j K(x^{(i)}, x^{(j)}) \\ge 0 $$\n",
    "\n",
    "Since $K_1$ and $K_2$ are kernels, we have:\n",
    "$$\\sum_{i,j}^{m} u_i u_j K_1(x^{(i)}, x^{(j)}) \\ge 0 $$\n",
    "$$\\sum_{i,j}^{m} u_i u_j K_2(x^{(i)}, x^{(j)}) \\ge 0 $$"
   ]
  },
  {
   "cell_type": "markdown",
   "metadata": {
    "collapsed": true,
    "deletable": true,
    "editable": true
   },
   "source": [
    "### (a)  $K(x, z) = K_1(x, z) + K_2(x, z)$  \n",
    "\\begin{align*}\n",
    "u^TKu &= \\sum_{i,j}^{m} u_i u_j \\big( K_1(x^{(i)}, x^{(j)}) + K_2(x^{(i)}, x^{(j)}) \\big) \\\\\n",
    "      &= \\sum_{i,j}^{m} u_i u_j K_1(x^{(i)}, x^{(j)}) + \\sum_{i,j}^{m} u_i u_j K_2(x^{(i)}, x^{(j)})\\\\\n",
    "      &\\ge 0 \n",
    "\\end{align*}\n",
    "Thus $K$ is a kernel."
   ]
  },
  {
   "cell_type": "markdown",
   "metadata": {
    "deletable": true,
    "editable": true
   },
   "source": [
    "### (b) $K(x, z) = K_1(x, z) − K_2(x, z)$  \n",
    "\\begin{align*}\n",
    "u^TKu &= \\sum_{i,j}^{m} u_i u_j \\big( K_1(x^{(i)}, x^{(j)}) - K_2(x^{(i)}, x^{(j)}) \\big) \\\\\n",
    "      &= \\sum_{i,j}^{m} u_i u_j K_1(x^{(i)}, x^{(j)}) - \\sum_{i,j}^{m} u_i u_j K_2(x^{(i)}, x^{(j)})\\\\\n",
    "\\end{align*}\n",
    "If $K_2(x, z) = 2K_1(x, z)$, then: $$u^TKu = - \\sum_{i,j}^{m} u_i u_j K_1(x^{(i)}, x^{(j)}) \\le 0 $$  \n",
    "Not necessarily lerger than or equal to 0, so $K$ is not a kernel"
   ]
  },
  {
   "cell_type": "markdown",
   "metadata": {
    "deletable": true,
    "editable": true
   },
   "source": [
    "### (c) $K(x, z) = aK_1(x, z)$  \n",
    "Given $a \\in  \\mathbb{R}^+$, we have:\n",
    "\\begin{align*}\n",
    "u^TKu &= a\\sum_{i,j}^{m} u_i u_j K_1(x^{(i)}, x^{(j)})  \\\\\n",
    "      &\\ge 0 \n",
    "\\end{align*}\n",
    "Thus $K$ is a kernel."
   ]
  },
  {
   "cell_type": "markdown",
   "metadata": {
    "deletable": true,
    "editable": true
   },
   "source": [
    "### (d) $K(x, z) = −aK_1(x, z)$  \n",
    "Given $a \\in  \\mathbb{R}^+$, we have:\n",
    "\\begin{align*}\n",
    "u^TKu &= -a\\sum_{i,j}^{m} u_i u_j K_1(x^{(i)}, x^{(j)})  \\\\\n",
    "      &\\le 0 \n",
    "\\end{align*}\n",
    "Thus $K$ is not a kernel."
   ]
  },
  {
   "cell_type": "markdown",
   "metadata": {
    "deletable": true,
    "editable": true
   },
   "source": [
    "### (e) $K(x, z) = K_1(x, z)K_2(x, z)$  \n",
    "Assume:  \n",
    "$$K_1(x,z) = a(x)^T a(z)$$\n",
    "$$K_2(x,z) = b(x)^T b(z)$$\n",
    "Thus:\n",
    "\\begin{align*}\n",
    "K(x, z) &= a(x)^T a(z) b(x)^T b(z) \\\\\n",
    "        &= \\sum_{p=1}^d a_p(x)a_p(z) \\sum_{q=1}^d b_q(x)b_q(z)  \\\\\n",
    "        &= \\sum_{p=1}^d \\sum_{q=1}^d a_p(x)a_p(z)b_q(x)b_q(z)  \\\\\n",
    "        &= \\sum_{p=1}^d \\sum_{q=1}^d \\big(a_p(x)b_q(x)\\big) \\big(a_p(z)b_q(z)\\big)  \\\\\n",
    "        &= \\sum_{p=1}^d \\sum_{q=1}^d c_{pq}(x) c_{pq}(z) \\\\\n",
    "        &= \\sum_{r=1}^{d^2} c_r(x)c_r(z) \\\\\n",
    "        &= c(x)^T c(z)\n",
    "\\end{align*}\n",
    "Here $c(x)$ is a $d^2$ dimensional vector, s.t. $c_{pq}(x) = a_p(x)b_q(x)$.  \n",
    "Thus $K$ is a kernel."
   ]
  },
  {
   "cell_type": "markdown",
   "metadata": {
    "deletable": true,
    "editable": true
   },
   "source": [
    "### (f) $K(x, z) = f(x)f(z)$ \n",
    "Since $f(x)$ is a scaler, $f(x)^T = f(x)$.  \n",
    "\\begin{align*}\n",
    " K(x, z) &= f(x)f(z) \\\\\n",
    "         &= f(x)^Tf(z)\n",
    "\\end{align*}\n",
    "Thus $K$ is a kernel."
   ]
  },
  {
   "cell_type": "markdown",
   "metadata": {
    "deletable": true,
    "editable": true
   },
   "source": [
    "### (g) $K(x, z) = K_3(\\phi(x), \\phi(z))$ \n",
    "Assume: \n",
    "$$K_3(x, z) = \\alpha(x)^T \\alpha(z)$$\n",
    "Then:\n",
    "\\begin{align*}\n",
    "K_3(\\phi(x), \\phi(z)) &= \\alpha(\\phi(x))^T \\alpha(\\phi(z)) \\\\\n",
    "                      &= \\beta(x)^T \\beta(z)\n",
    "\\end{align*}\n",
    "Here $\\beta(x) = \\alpha(\\phi(x))$  \n",
    "Thus $K$ is a kernel."
   ]
  },
  {
   "cell_type": "markdown",
   "metadata": {
    "deletable": true,
    "editable": true
   },
   "source": [
    "### (h) $K(x, z) = p(K_1(x, z))$  \n",
    "\\begin{align*}\n",
    "u^TKu &= \\sum_{i,j}^{m} u_i u_j p(K_1(x^{(i)}, x^{(j)}))\\\\\n",
    "      &= \\sum_{i,j}^{m} u_i u_j \\big(a_0 + a_1 K_1(x^{(i)}, x^{(j)}) + a_2 K_1(x^{(i)}, x^{(j)})^2 + .... +  a_k K_1(x^{(i)}, x^{(j)})^k \\big) \\\\\n",
    "\\end{align*}\n",
    "We can we constant term(f), power(e), positive scalar product(c) and sum(a) of a kernel is still kernel. Thus any polynomial of kernel $K_1$ with positive coefficients is still a kernel.  \n",
    "Thus $K$ is kernel."
   ]
  }
 ],
 "metadata": {
  "kernelspec": {
   "display_name": "AIND",
   "language": "python",
   "name": "aind"
  },
  "language_info": {
   "codemirror_mode": {
    "name": "ipython",
    "version": 3
   },
   "file_extension": ".py",
   "mimetype": "text/x-python",
   "name": "python",
   "nbconvert_exporter": "python",
   "pygments_lexer": "ipython3",
   "version": "3.6.0"
  }
 },
 "nbformat": 4,
 "nbformat_minor": 2
}
