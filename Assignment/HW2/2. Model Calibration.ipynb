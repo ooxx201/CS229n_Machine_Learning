{
 "cells": [
  {
   "cell_type": "markdown",
   "metadata": {
    "deletable": true,
    "editable": true
   },
   "source": [
    "## (a)\n",
    "Given a set of example $x^{(i)}$, to to maximize its likelihood:\n",
    "$$\n",
    "\\frac{\\partial l(\\theta)}{\\partial \\theta_j} = \\sum_{i=1}^{m}(y^{(i)} - h_{\\theta}(x^{(i)}))x_{j}^{(i)} = 0\n",
    "$$\n",
    "Thus:\n",
    "$$X^T(Y - h(X)) = \\boldsymbol{0}$$\n",
    "\n",
    "Because of the added intercept terms for each $x^{(i)}$, expand $X^T$, we have\n",
    "\n",
    "$$\n",
    "\\begin{bmatrix}\n",
    " 1 &  \\cdots & 1 \\\\ \n",
    " x_1^{(1)} & \\cdots & x_1^{(m)} \\\\ \n",
    " \\vdots & \\ddots & \\vdots \\\\ \n",
    " x_n^{(1)}& \\cdots & x_n^{(m)}\n",
    "\\end{bmatrix} (Y - h(X)) = \\boldsymbol{0}\n",
    "$$\n",
    "\n",
    "Since the first row is bia term which is all 1, we have:\n",
    "\\begin{align*}\n",
    "[1, \\cdots, 1](Y - h(X)) &= \\sum_{i=1}^{m}(y^{(i)} - h(x^{(i)})) = 0\n",
    "\\end{align*}\n",
    "So:\n",
    "\\begin{align*}\n",
    "\\sum_{i=1}^{m}h(x^{(i)}) &= \\sum_{i=1}^{m}y^{(i)} \\\\\n",
    "\\sum_{i\\in I_{0,1}} P(y^{(i)}=1 \\mid x^{(i)}; \\theta) &= \\sum_{i\\in I_{0,1}} \\boldsymbol{1} \\{y^{(i)} = 1\\} \\\\\n",
    "\\frac{\\sum_{i\\in I_{0,1}} P(y^{(i)}=1 \\mid x^{(i)}; \\theta)}{\\left | \\{i \\in I_{0, 1} \\} \\right |} &= \n",
    "\\frac{\\sum_{i\\in I_{0,1}} \\boldsymbol{1} \\{y^{(i)} = 1\\}}{\\left | \\{i \\in I_{0, 1} \\} \\right |}\n",
    "\\end{align*}\n",
    "\n",
    "Thus the the property holds true for the described logistic regression model over the rang $(a, b) = (0, 1)$."
   ]
  },
  {
   "cell_type": "markdown",
   "metadata": {},
   "source": [
    "## (b)\n",
    "1. If a model is perfectly callibrated, then all we can say is that the probabilities output from the model match empirical observations. This only describes the probabilities of the outcomes, and not the outcomes themselves, therefore the model does not necessarily achieve perfect accuracy.\n",
    "2. Conversely, if a model has perfect accuracy, then the probabilities output by the model necessarily match empirical observations"
   ]
  },
  {
   "cell_type": "code",
   "execution_count": null,
   "metadata": {
    "collapsed": true
   },
   "outputs": [],
   "source": []
  }
 ],
 "metadata": {
  "kernelspec": {
   "display_name": "Python_AIND",
   "language": "python",
   "name": "aind"
  },
  "language_info": {
   "codemirror_mode": {
    "name": "ipython",
    "version": 3
   },
   "file_extension": ".py",
   "mimetype": "text/x-python",
   "name": "python",
   "nbconvert_exporter": "python",
   "pygments_lexer": "ipython3",
   "version": "3.6.0"
  }
 },
 "nbformat": 4,
 "nbformat_minor": 2
}
