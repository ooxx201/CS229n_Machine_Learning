{
 "cells": [
  {
   "cell_type": "markdown",
   "metadata": {},
   "source": [
    "## (a)\n",
    "Since: $$(a, b) = (0, 1) $$ $$P(y=1 \\mid x;\\theta) = h_\\theta(x) = \\frac{1}{1+e^{-\\theta^Tx}}$$\n",
    "We have:\n",
    "\\begin{align*}\n",
    "\\frac{\\sum_{i\\in I_{a,b}} P(y^{(i)}=1 \\mid x^{(i)}; \\theta)} {\\mid \\{i \\in I_{a,b}\\}\\mid} &= \n",
    "\\frac{\\sum_{i\\in I_{0,1}} P(y^{(i)}=1 \\mid x^{(i)}; \\theta)} {\\mid \\{i \\in I_{0,1}\\}\\mid} \\\\\n",
    "&= \\frac{1}{m} \\sum_{i=1}^{m} \\frac{1}{1+e^{-\\theta^Tx^{(i)}}}\n",
    "\\end{align*}"
   ]
  }
 ],
 "metadata": {
  "kernelspec": {
   "display_name": "Python_AIND",
   "language": "python",
   "name": "aind"
  },
  "language_info": {
   "codemirror_mode": {
    "name": "ipython",
    "version": 3
   },
   "file_extension": ".py",
   "mimetype": "text/x-python",
   "name": "python",
   "nbconvert_exporter": "python",
   "pygments_lexer": "ipython3",
   "version": "3.6.0"
  }
 },
 "nbformat": 4,
 "nbformat_minor": 2
}
