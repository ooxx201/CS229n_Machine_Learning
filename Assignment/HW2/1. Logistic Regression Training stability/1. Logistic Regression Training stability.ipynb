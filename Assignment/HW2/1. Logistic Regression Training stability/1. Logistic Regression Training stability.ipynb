{
 "cells": [
  {
   "cell_type": "code",
   "execution_count": 5,
   "metadata": {
    "collapsed": false
   },
   "outputs": [],
   "source": [
    "from lr_debug import *"
   ]
  },
  {
   "cell_type": "markdown",
   "metadata": {},
   "source": [
    "## (a)\n",
    "The logistic_regression is able to converge on dataset a while cannot converge on dataset b."
   ]
  },
  {
   "cell_type": "code",
   "execution_count": 6,
   "metadata": {
    "collapsed": false
   },
   "outputs": [
    {
     "name": "stdout",
     "output_type": "stream",
     "text": [
      "==== Training model on data set A ====\n",
      "Finished 10000 iterations; Diff theta: 7.226491864936692e-07; theta: [-20.81394174  21.45250215  19.85155266]; Grad: [  4.15154546e-08  -4.27822247e-08  -4.08456455e-08]\n",
      "Finished 20000 iterations; Diff theta: 5.3329818166826493e-11; theta: [-20.81437785  21.45295156  19.85198173]; Grad: [  3.06368792e-12  -3.15720109e-12  -3.01427074e-12]\n",
      "Finished 30000 iterations; Diff theta: 6.153480596427404e-15; theta: [-20.81437788  21.45295159  19.85198176]; Grad: [  1.98777723e-16  -2.93366708e-16  -1.89343630e-16]\n",
      "Converged in 30368 iterations\n",
      "\n",
      "==== Training model on data set B ====\n",
      "Finished 10000 iterations; Diff theta: 0.003361039469518825; theta: [-52.74109217  52.92982273  52.69691453]; Grad: [ 0.00019399 -0.00019355 -0.00019461]\n",
      "Finished 20000 iterations; Diff theta: 0.002173205351041188; theta: [-68.10040977  68.26496086  68.09888223]; Grad: [ 0.00012541 -0.00012529 -0.0001257 ]\n",
      "Finished 30000 iterations; Diff theta: 0.0016644896054955345; theta: [-79.01759142  79.17745526  79.03755803]; Grad: [  9.60445104e-05  -9.60553587e-05  -9.61981110e-05]\n",
      "Finished 40000 iterations; Diff theta: 0.00137040952812708; theta: [-87.70771189  87.87276307  87.73897393]; Grad: [  7.90651647e-05  -7.91523106e-05  -7.91443884e-05]\n",
      "Finished 50000 iterations; Diff theta: 0.0011758957242939641; theta: [-95.01838735  95.1948202   95.0551918 ]; Grad: [  6.78328688e-05  -6.79700947e-05  -6.78680755e-05]\n",
      "Finished 60000 iterations; Diff theta: 0.0010366393703263115; theta: [-101.37921493  101.57119731  101.41805781]; Grad: [  5.97905761e-05  -5.99622968e-05  -5.97981756e-05]\n",
      "Finished 70000 iterations; Diff theta: 0.0009315199306059815; theta: [-107.04156569  107.25200975  107.08020705]; Grad: [  5.37193268e-05  -5.39154728e-05  -5.37089335e-05]\n",
      "Finished 80000 iterations; Diff theta: 0.0008490730225995943; theta: [-112.16638881  112.39737225  112.20335022]; Grad: [  4.89573832e-05  -4.91710659e-05  -4.89349658e-05]\n",
      "Finished 90000 iterations; Diff theta: 0.0007824983080599451; theta: [-116.86340448  117.11642203  116.89769046]; Grad: [  4.51121714e-05  -4.53384732e-05  -4.50816023e-05]\n",
      "Finished 100000 iterations; Diff theta: 0.0007274911705015017; theta: [-121.21097234  121.48709579  121.24190606]; Grad: [  4.19351585e-05  -4.21704526e-05  -4.18990387e-05]\n",
      "Finished 110000 iterations; Diff theta: 0.0006811873212607069; theta: [-125.2671122   125.56709752  125.29423376]; Grad: [  3.92609485e-05  -3.95024927e-05  -3.92210742e-05]\n",
      "Finished 120000 iterations; Diff theta: 0.0006416037144878202; theta: [-129.07604452  129.40040661  129.09904542]; Grad: [  3.69750168e-05  -3.72206979e-05  -3.69326555e-05]\n",
      "Finished 130000 iterations; Diff theta: 0.00060732223371039; theta: [-132.67228289  133.02134953  132.6909624 ]; Grad: [  3.49954536e-05  -3.52436199e-05  -3.49515156e-05]\n",
      "Finished 140000 iterations; Diff theta: 0.0005773010263759997; theta: [-136.0833065   136.45725847  136.09754179]; Grad: [  3.32620741e-05  -3.35114213e-05  -3.32172218e-05]\n",
      "Finished 150000 iterations; Diff theta: 0.0005507569791240006; theta: [-139.33136783  139.73026941  139.34109305]; Grad: [  3.17296345e-05  -3.19791254e-05  -3.16843546e-05]\n",
      "Finished 160000 iterations; Diff theta: 0.0005270897930619665; theta: [-142.43475235  142.85857494  142.43994361]; Grad: [  3.03634490e-05  -3.06122555e-05  -3.03181014e-05]\n",
      "Finished 170000 iterations; Diff theta: 0.0005058313883535566; theta: [-145.40867865  145.85731947  145.40934321]; Grad: [  2.91364685e-05  -2.93839282e-05  -2.90913200e-05]\n",
      "Finished 180000 iterations; Diff theta: 0.00048661127387651984; theta: [-148.26595614  148.73925306  148.26212429]; Grad: [  2.80272810e-05  -2.82728648e-05  -2.79825294e-05]\n",
      "Finished 190000 iterations; Diff theta: 0.00046913228380035505; theta: [-151.01747462  151.51521816  151.00919371]; Grad: [  2.70187108e-05  -2.72619975e-05  -2.69745020e-05]\n",
      "Finished 200000 iterations; Diff theta: 0.0004531532253669582; theta: [-153.67257509  154.19451821  153.65990501]; Grad: [  2.60968164e-05  -2.63374724e-05  -2.60532566e-05]\n",
      "Finished 210000 iterations; Diff theta: 0.0004384762403934057; theta: [-156.23933482  156.78520084  156.22234451]; Grad: [  2.52501600e-05  -2.54879241e-05  -2.52073258e-05]\n",
      "Finished 220000 iterations; Diff theta: 0.0004249374490580029; theta: [-158.72478939  159.29427858  158.70355423]; Grad: [  2.44692680e-05  -2.47039383e-05  -2.44272125e-05]\n",
      "Finished 230000 iterations; Diff theta: 0.0004123999211233893; theta: [-161.13510779  161.72790277  161.10970757]; Grad: [  2.37462239e-05  -2.39776478e-05  -2.37049827e-05]\n",
      "Finished 240000 iterations; Diff theta: 0.0004007483251785522; theta: [-163.4757321   164.09150229  163.44624942]; Grad: [  2.30743602e-05  -2.33024253e-05  -2.30339548e-05]\n",
      "Finished 250000 iterations; Diff theta: 0.00038988480600607976; theta: [-165.75148986  166.38989521  165.71800894]; Grad: [  2.24480194e-05  -2.26726471e-05  -2.24084608e-05]\n"
     ]
    },
    {
     "ename": "KeyboardInterrupt",
     "evalue": "",
     "output_type": "error",
     "traceback": [
      "\u001b[1;31m---------------------------------------------------------------------------\u001b[0m",
      "\u001b[1;31mKeyboardInterrupt\u001b[0m                         Traceback (most recent call last)",
      "\u001b[1;32m<ipython-input-6-58ca95c5b364>\u001b[0m in \u001b[0;36m<module>\u001b[1;34m()\u001b[0m\n\u001b[1;32m----> 1\u001b[1;33m \u001b[0mmain\u001b[0m\u001b[1;33m(\u001b[0m\u001b[1;33m)\u001b[0m\u001b[1;33m\u001b[0m\u001b[0m\n\u001b[0m",
      "\u001b[1;32mC:\\Users\\qxu\\Study\\CS229n_Machine_Learning\\Assignment\\HW2\\1. Logistic Regression Training stability\\lr_debug.py\u001b[0m in \u001b[0;36mmain\u001b[1;34m()\u001b[0m\n\u001b[0;32m     57\u001b[0m     \u001b[0mprint\u001b[0m\u001b[1;33m(\u001b[0m\u001b[1;34m'\\n==== Training model on data set B ===='\u001b[0m\u001b[1;33m)\u001b[0m\u001b[1;33m\u001b[0m\u001b[0m\n\u001b[0;32m     58\u001b[0m     \u001b[0mXb\u001b[0m\u001b[1;33m,\u001b[0m \u001b[0mYb\u001b[0m \u001b[1;33m=\u001b[0m \u001b[0mload_data\u001b[0m\u001b[1;33m(\u001b[0m\u001b[1;34m'data_b.txt'\u001b[0m\u001b[1;33m)\u001b[0m\u001b[1;33m\u001b[0m\u001b[0m\n\u001b[1;32m---> 59\u001b[1;33m     \u001b[0mlogistic_regression\u001b[0m\u001b[1;33m(\u001b[0m\u001b[0mXb\u001b[0m\u001b[1;33m,\u001b[0m \u001b[0mYb\u001b[0m\u001b[1;33m)\u001b[0m\u001b[1;33m\u001b[0m\u001b[0m\n\u001b[0m\u001b[0;32m     60\u001b[0m \u001b[1;33m\u001b[0m\u001b[0m\n\u001b[0;32m     61\u001b[0m     \u001b[1;32mreturn\u001b[0m\u001b[1;33m\u001b[0m\u001b[0m\n",
      "\u001b[1;32mC:\\Users\\qxu\\Study\\CS229n_Machine_Learning\\Assignment\\HW2\\1. Logistic Regression Training stability\\lr_debug.py\u001b[0m in \u001b[0;36mlogistic_regression\u001b[1;34m(X, Y)\u001b[0m\n\u001b[0;32m     39\u001b[0m         \u001b[0mi\u001b[0m \u001b[1;33m+=\u001b[0m \u001b[1;36m1\u001b[0m\u001b[1;33m\u001b[0m\u001b[0m\n\u001b[0;32m     40\u001b[0m         \u001b[0mprev_theta\u001b[0m \u001b[1;33m=\u001b[0m \u001b[0mtheta\u001b[0m\u001b[1;33m\u001b[0m\u001b[0m\n\u001b[1;32m---> 41\u001b[1;33m         \u001b[0mgrad\u001b[0m \u001b[1;33m=\u001b[0m \u001b[0mcalc_grad\u001b[0m\u001b[1;33m(\u001b[0m\u001b[0mX\u001b[0m\u001b[1;33m,\u001b[0m \u001b[0mY\u001b[0m\u001b[1;33m,\u001b[0m \u001b[0mtheta\u001b[0m\u001b[1;33m)\u001b[0m\u001b[1;33m\u001b[0m\u001b[0m\n\u001b[0m\u001b[0;32m     42\u001b[0m         \u001b[0mtheta\u001b[0m \u001b[1;33m=\u001b[0m \u001b[0mtheta\u001b[0m  \u001b[1;33m-\u001b[0m \u001b[0mlearning_rate\u001b[0m \u001b[1;33m*\u001b[0m \u001b[1;33m(\u001b[0m\u001b[0mgrad\u001b[0m\u001b[1;33m)\u001b[0m\u001b[1;33m\u001b[0m\u001b[0m\n\u001b[0;32m     43\u001b[0m         \u001b[0mnorm\u001b[0m \u001b[1;33m=\u001b[0m \u001b[0mnp\u001b[0m\u001b[1;33m.\u001b[0m\u001b[0mlinalg\u001b[0m\u001b[1;33m.\u001b[0m\u001b[0mnorm\u001b[0m\u001b[1;33m(\u001b[0m\u001b[0mprev_theta\u001b[0m \u001b[1;33m-\u001b[0m \u001b[0mtheta\u001b[0m\u001b[1;33m)\u001b[0m\u001b[1;33m\u001b[0m\u001b[0m\n",
      "\u001b[1;32mC:\\Users\\qxu\\Study\\CS229n_Machine_Learning\\Assignment\\HW2\\1. Logistic Regression Training stability\\lr_debug.py\u001b[0m in \u001b[0;36mcalc_grad\u001b[1;34m(X, Y, theta)\u001b[0m\n\u001b[0;32m     24\u001b[0m     \u001b[0mgrad\u001b[0m \u001b[1;33m=\u001b[0m \u001b[0mnp\u001b[0m\u001b[1;33m.\u001b[0m\u001b[0mzeros\u001b[0m\u001b[1;33m(\u001b[0m\u001b[0mtheta\u001b[0m\u001b[1;33m.\u001b[0m\u001b[0mshape\u001b[0m\u001b[1;33m)\u001b[0m\u001b[1;33m\u001b[0m\u001b[0m\n\u001b[0;32m     25\u001b[0m \u001b[1;33m\u001b[0m\u001b[0m\n\u001b[1;32m---> 26\u001b[1;33m     \u001b[0mmargins\u001b[0m \u001b[1;33m=\u001b[0m \u001b[0mY\u001b[0m \u001b[1;33m*\u001b[0m \u001b[0mX\u001b[0m\u001b[1;33m.\u001b[0m\u001b[0mdot\u001b[0m\u001b[1;33m(\u001b[0m\u001b[0mtheta\u001b[0m\u001b[1;33m)\u001b[0m\u001b[1;33m\u001b[0m\u001b[0m\n\u001b[0m\u001b[0;32m     27\u001b[0m     \u001b[0mprobs\u001b[0m \u001b[1;33m=\u001b[0m \u001b[1;36m1.\u001b[0m \u001b[1;33m/\u001b[0m \u001b[1;33m(\u001b[0m\u001b[1;36m1\u001b[0m \u001b[1;33m+\u001b[0m \u001b[0mnp\u001b[0m\u001b[1;33m.\u001b[0m\u001b[0mexp\u001b[0m\u001b[1;33m(\u001b[0m\u001b[0mmargins\u001b[0m\u001b[1;33m)\u001b[0m\u001b[1;33m)\u001b[0m\u001b[1;33m\u001b[0m\u001b[0m\n\u001b[0;32m     28\u001b[0m     \u001b[0mgrad\u001b[0m \u001b[1;33m=\u001b[0m \u001b[1;33m-\u001b[0m\u001b[1;33m(\u001b[0m\u001b[1;36m1.\u001b[0m\u001b[1;33m/\u001b[0m\u001b[0mm\u001b[0m\u001b[1;33m)\u001b[0m \u001b[1;33m*\u001b[0m \u001b[1;33m(\u001b[0m\u001b[0mX\u001b[0m\u001b[1;33m.\u001b[0m\u001b[0mT\u001b[0m\u001b[1;33m.\u001b[0m\u001b[0mdot\u001b[0m\u001b[1;33m(\u001b[0m\u001b[0mprobs\u001b[0m \u001b[1;33m*\u001b[0m \u001b[0mY\u001b[0m\u001b[1;33m)\u001b[0m\u001b[1;33m)\u001b[0m\u001b[1;33m\u001b[0m\u001b[0m\n",
      "\u001b[1;31mKeyboardInterrupt\u001b[0m: "
     ]
    }
   ],
   "source": [
    "main()"
   ]
  }
 ],
 "metadata": {
  "kernelspec": {
   "display_name": "Python_AIND",
   "language": "python",
   "name": "aind"
  },
  "language_info": {
   "codemirror_mode": {
    "name": "ipython",
    "version": 3
   },
   "file_extension": ".py",
   "mimetype": "text/x-python",
   "name": "python",
   "nbconvert_exporter": "python",
   "pygments_lexer": "ipython3",
   "version": "3.6.0"
  }
 },
 "nbformat": 4,
 "nbformat_minor": 2
}
