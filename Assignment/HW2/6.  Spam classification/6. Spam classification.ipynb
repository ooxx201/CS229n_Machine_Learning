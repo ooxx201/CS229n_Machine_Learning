{
 "cells": [
  {
   "cell_type": "code",
   "execution_count": 66,
   "metadata": {
    "collapsed": false,
    "deletable": true,
    "editable": true
   },
   "outputs": [
    {
     "name": "stdout",
     "output_type": "stream",
     "text": [
      "Error: 0.0600\n"
     ]
    }
   ],
   "source": [
    "import numpy as np\n",
    "\n",
    "def readMatrix(file):\n",
    "    fd = open(file, 'r')\n",
    "    hdr = fd.readline()\n",
    "    rows, cols = [int(s) for s in fd.readline().strip().split()]\n",
    "    tokens = fd.readline().strip().split()\n",
    "    matrix = np.zeros((rows, cols))\n",
    "    Y = []\n",
    "    for i, line in enumerate(fd):\n",
    "        nums = [int(x) for x in line.strip().split()]\n",
    "        Y.append(nums[0])\n",
    "        kv = np.array(nums[1:])\n",
    "        k = np.cumsum(kv[:-1:2])\n",
    "        v = kv[1::2]\n",
    "        matrix[i, k] = v\n",
    "    return matrix, tokens, np.array(Y)\n",
    "\n",
    "def nb_train(matrix, category):\n",
    "    state = {}\n",
    "    M, N = matrix.shape\n",
    "    ###################\n",
    "    freq_0 = np.sum(matrix[category == 0], axis = 0) + np.ones((n,))\n",
    "    freq_1 = np.sum(matrix[category == 1], axis = 0) + np.ones((n,)) \n",
    "    f_0 = np.sum(category == 0) \n",
    "    f_1 = np.sum(category == 1) \n",
    "\n",
    "    log_phi_0 = np.log(freq_0) - np.log(f_0 + k) \n",
    "    log_phi_1 = np.log(freq_1) - np.log(f_1 + k)\n",
    "    log_phi_0 = log_phi_0.reshape([-1, 1])\n",
    "    log_phi_1 = log_phi_1.reshape([-1, 1])\n",
    "    \n",
    "    log_p_0 = np.log(f_0) - np.log(M)\n",
    "    log_p_1 = np.log(f_1) - np.log(M)\n",
    "    state = [log_phi_0, log_phi_1, log_p_0, log_p_1]\n",
    "    ###################\n",
    "    return state\n",
    "\n",
    "def nb_test(matrix, state):\n",
    "    output = np.zeros(matrix.shape[0])\n",
    "    ###################\n",
    "    og_phi_0, log_phi_1, log_p_0, log_p_1 = state\n",
    "    \n",
    "    log_opt_0 = np.matmul(matrix, log_phi_0) + log_p_0\n",
    "    log_opt_1 = np.matmul(matrix, log_phi_1) + log_p_1\n",
    "    \n",
    "    h = 1 / (1 + np.exp(log_opt_0 - log_opt_1))\n",
    "    output = np.array([1 if i >= 0.5 else 0 for i in h], dtype = int) \n",
    "    ###################\n",
    "    return output\n",
    "\n",
    "def evaluate(output, label):\n",
    "    error = (output != label).sum() * 1. / len(output)\n",
    "    print('Error: %1.4f' % error)\n",
    "\n",
    "def main():\n",
    "    trainMatrix, tokenlist, trainCategory = readMatrix('spam_data/MATRIX.TRAIN')\n",
    "    testMatrix, tokenlist, testCategory = readMatrix('spam_data/MATRIX.TEST')\n",
    "\n",
    "    state = nb_train(trainMatrix, trainCategory)\n",
    "    output = nb_test(testMatrix, state)\n",
    "\n",
    "    evaluate(output, testCategory)\n",
    "    return\n",
    "\n",
    "if __name__ == '__main__':\n",
    "    main()"
   ]
  },
  {
   "cell_type": "code",
   "execution_count": 1,
   "metadata": {
    "collapsed": true,
    "deletable": true,
    "editable": true
   },
   "outputs": [],
   "source": [
    "import numpy as np\n",
    "k = 2\n",
    "\n",
    "def readMatrix(file):\n",
    "    fd = open(file, 'r')\n",
    "    hdr = fd.readline()\n",
    "    rows, cols = [int(s) for s in fd.readline().strip().split()]\n",
    "    tokens = fd.readline().strip().split()\n",
    "    matrix = np.zeros((rows, cols))\n",
    "    Y = []\n",
    "    for i, line in enumerate(fd):\n",
    "        nums = [int(x) for x in line.strip().split()]\n",
    "        Y.append(nums[0])\n",
    "        kv = np.array(nums[1:])\n",
    "        k = np.cumsum(kv[:-1:2])\n",
    "        v = kv[1::2]\n",
    "        matrix[i, k] = v\n",
    "    return matrix, tokens, np.array(Y)"
   ]
  },
  {
   "cell_type": "code",
   "execution_count": 2,
   "metadata": {
    "collapsed": true,
    "deletable": true,
    "editable": true
   },
   "outputs": [],
   "source": [
    "trainMatrix, tokenlist, trainCategory = readMatrix('spam_data/MATRIX.TRAIN')\n",
    "testMatrix, tokenlist, testCategory = readMatrix('spam_data/MATRIX.TEST')"
   ]
  },
  {
   "cell_type": "code",
   "execution_count": 56,
   "metadata": {
    "collapsed": false
   },
   "outputs": [],
   "source": [
    "matrix = trainMatrix\n",
    "category = trainCategory\n",
    "\n",
    "state = {}\n",
    "M, N = matrix.shape\n",
    "###################\n",
    "freq_0 = np.sum(matrix[category == 0], axis = 0) + np.ones((n,))\n",
    "freq_1 = np.sum(matrix[category == 1], axis = 0) + np.ones((n,)) \n",
    "f_0 = np.sum(category == 0) \n",
    "f_1 = np.sum(category == 1) \n",
    "\n",
    "log_phi_0 = np.log(freq_0) - np.log(f_0 + k) \n",
    "log_phi_1 = np.log(freq_1) - np.log(f_1 + k)\n",
    "log_phi_0 = log_phi_0.reshape([-1, 1])\n",
    "log_phi_1 = log_phi_1.reshape([-1, 1])\n",
    "    \n",
    "log_p_0 = np.log(f_0) - np.log(M)\n",
    "log_p_1 = np.log(f_1) - np.log(M)\n",
    "state = [log_phi_0, log_phi_1, log_p_0, log_p_1]"
   ]
  },
  {
   "cell_type": "code",
   "execution_count": 62,
   "metadata": {
    "collapsed": true
   },
   "outputs": [],
   "source": [
    "log_phi_0, log_phi_1, log_p_0, log_p_1 = state\n",
    "    \n",
    "log_opt_0 = np.matmul(matrix, log_phi_0) + log_p_0\n",
    "log_opt_1 = np.matmul(matrix, log_phi_1) + log_p_1\n",
    "    \n",
    "h = 1 / (1 + np.exp(log_opt_0 - log_opt_1))\n",
    "output = np.array([1 if i >= 0.5 else 0 for i in h], dtype = int) "
   ]
  },
  {
   "cell_type": "code",
   "execution_count": 63,
   "metadata": {
    "collapsed": false
   },
   "outputs": [
    {
     "ename": "NameError",
     "evalue": "name 'evaluate' is not defined",
     "output_type": "error",
     "traceback": [
      "\u001b[0;31m---------------------------------------------------------------------------\u001b[0m",
      "\u001b[0;31mNameError\u001b[0m                                 Traceback (most recent call last)",
      "\u001b[0;32m<ipython-input-63-3c4e8543e323>\u001b[0m in \u001b[0;36m<module>\u001b[0;34m()\u001b[0m\n\u001b[0;32m----> 1\u001b[0;31m \u001b[0mevaluate\u001b[0m\u001b[0;34m(\u001b[0m\u001b[0moutput\u001b[0m\u001b[0;34m,\u001b[0m \u001b[0mcategory\u001b[0m\u001b[0;34m)\u001b[0m\u001b[0;34m\u001b[0m\u001b[0m\n\u001b[0m",
      "\u001b[0;31mNameError\u001b[0m: name 'evaluate' is not defined"
     ]
    }
   ],
   "source": [
    "evaluate(output, category)"
   ]
  },
  {
   "cell_type": "code",
   "execution_count": null,
   "metadata": {
    "collapsed": true
   },
   "outputs": [],
   "source": []
  }
 ],
 "metadata": {
  "kernelspec": {
   "display_name": "AIND",
   "language": "python",
   "name": "aind"
  },
  "language_info": {
   "codemirror_mode": {
    "name": "ipython",
    "version": 3
   },
   "file_extension": ".py",
   "mimetype": "text/x-python",
   "name": "python",
   "nbconvert_exporter": "python",
   "pygments_lexer": "ipython3",
   "version": "3.6.0"
  }
 },
 "nbformat": 4,
 "nbformat_minor": 2
}
