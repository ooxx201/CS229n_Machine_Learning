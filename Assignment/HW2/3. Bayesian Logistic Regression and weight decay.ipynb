{
 "cells": [
  {
   "cell_type": "markdown",
   "metadata": {},
   "source": [
    "Assume: $$\\left|\\left|\\theta_{MAP}\\right|\\right|_2 \\gt \\left|\\left|\\theta_{ML}\\right|\\right|_2$$  \n",
    "\n",
    "Because: $\\theta \\sim \\mathcal{N}(0, \\tau^{2}I)$, we have: $$P(\\theta_{MAP}) \\lt P(\\theta_{ML})$$ \n",
    "\n",
    "Since $ \\theta_{ML} = \\mathrm{arg} \\max_{\\theta} \\prod_{i=1}^{m} p(y^{(i)} | x^{(i)}; \\theta) $, we get: $$ \\prod_{i=1}^{m} p(y^{(i)} | x^{(i)}; \\theta_{MAP}) \\le \\prod_{i=1}^{m} p(y^{(i)} | x^{(i)}; \\theta_{ML})$$\n",
    "\n",
    "Multiple each side:$$P(\\theta_{MAP}) \\prod_{i=1}^{m} p(y^{(i)} | x^{(i)}; \\theta_{MAP}) \\lt P(\\theta_{ML}) \\prod_{i=1}^{m} p(y^{(i)} | x^{(i)}; \\theta_{ML})$$\n",
    "\n",
    "It contradict with the assumption that $\\theta_{MAP} = \\mathrm{arg} \\max_{\\theta} p(\\theta) \\prod_{i=1}^{m} p(y^{(i)} | x^{(i)}; \\theta)$. According to the assumption, there shouldn't be any \\theta that have bigger output $p(\\theta) \\prod_{i=1}^{m} p(y^{(i)} | x^{(i)}; \\theta)$ than $\\theta_{MAP}$.\n",
    "  \n",
    "Therefore, assumption is not true, and we have the conclusion :  $$\\left|\\left|\\theta_{MAP}\\right|\\right|_2 \\le \\left|\\left|\\theta_{ML}\\right|\\right|_2$$  "
   ]
  }
 ],
 "metadata": {
  "kernelspec": {
   "display_name": "Python_AIND",
   "language": "python",
   "name": "aind"
  },
  "language_info": {
   "codemirror_mode": {
    "name": "ipython",
    "version": 3
   },
   "file_extension": ".py",
   "mimetype": "text/x-python",
   "name": "python",
   "nbconvert_exporter": "python",
   "pygments_lexer": "ipython3",
   "version": "3.6.0"
  }
 },
 "nbformat": 4,
 "nbformat_minor": 2
}
