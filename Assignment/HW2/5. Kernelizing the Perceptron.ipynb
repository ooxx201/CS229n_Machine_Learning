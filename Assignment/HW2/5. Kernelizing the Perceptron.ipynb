{
 "cells": [
  {
   "cell_type": "markdown",
   "metadata": {
    "deletable": true,
    "editable": true
   },
   "source": [
    "## (a)\n",
    "In the high-dimensional the update rule of $\\theta$ is:\n",
    "$$ \\theta^{(i+1)} := \\theta^{(i)} + \\alpha (y^{(i+1)} - h_{\\theta^{(i)}} (\\phi(x^{(i+1)}))) \\phi(x^{(i+1)})$$\n",
    "Since $\\theta^{(0)} = \\vec{0}$, we have:\n",
    "\\begin{align*}\n",
    "\\theta^{(i)} &= \\sum_{l=1}^i \\alpha(y^{(l)} - h_{\\theta^{(l-1)}}(\\phi(x^{(l)}))) \\phi(x^{(l)}) \\\\\n",
    "             &= \\sum_{l=1}^i \\beta^{(l)} \\phi(x^{(l)}) \\\\\n",
    "\\end{align*}\n",
    "Here:\n",
    "\\begin{align*}\n",
    "\\beta^{(l)} &= \\alpha(y^{(l)} - h_{\\theta^{(l-1)}} (\\phi(x^{(l)}))) \\\\\n",
    "            &= \\alpha(y^{(l)} - g({\\theta^{(l-1)}}^T \\phi(x^{(l)}))) \\\\\n",
    "\\end{align*}"
   ]
  },
  {
   "cell_type": "markdown",
   "metadata": {
    "deletable": true,
    "editable": true
   },
   "source": [
    "## (b)\n",
    "\\begin{align*}\n",
    "h_{\\theta^{(i)}} (x^{(i+1)}) &= g({\\theta^{(i)}}^T \\phi(x^{(i+1)})) \\\\\n",
    "                             &= g(\\sum_{l=1}^i \\beta^{(l)} \\phi(x^{(l)})^T\\phi(x^{(i+1)})) \\\\\n",
    "                             &= g(\\sum_{l=1}^i \\beta^{(l)} K(x^{(l)},x^{(i+1)}))\n",
    "\\end{align*}"
   ]
  },
  {
   "cell_type": "markdown",
   "metadata": {
    "deletable": true,
    "editable": true
   },
   "source": [
    "## (c)\n",
    "\\begin{align*}\n",
    "\\theta^{(i+1)} &:= \\theta^{(i)} + \\alpha (y^{(i+1)} - g({\\theta^{(i)}}^T \\phi(x^{(i+1)}))) \\phi(x^{(i+1)}) \\\\\n",
    "\\end{align*}"
   ]
  }
 ],
 "metadata": {
  "kernelspec": {
   "display_name": "AIND",
   "language": "python",
   "name": "aind"
  },
  "language_info": {
   "codemirror_mode": {
    "name": "ipython",
    "version": 3
   },
   "file_extension": ".py",
   "mimetype": "text/x-python",
   "name": "python",
   "nbconvert_exporter": "python",
   "pygments_lexer": "ipython3",
   "version": "3.6.0"
  }
 },
 "nbformat": 4,
 "nbformat_minor": 2
}
