{
 "cells": [
  {
   "cell_type": "markdown",
   "metadata": {
    "collapsed": true,
    "deletable": true,
    "editable": true
   },
   "source": [
    "\\begin{align*}\n",
    "\\mathcal{l}\n",
    "= \\bigg (\\prod_{i=1}^{m}p(x^{(i)}|\\theta)\\bigg) p(\\theta)\n",
    "= \\bigg (\\prod_{i=1}^{m} \\sum_{z^{(i)}} p(x^{(i)}, z^{(i)} | \\theta) \\bigg) p(\\theta)\n",
    "\\end{align*}"
   ]
  },
  {
   "cell_type": "markdown",
   "metadata": {
    "deletable": true,
    "editable": true
   },
   "source": [
    "Since $f(x) = log x $ is a concave function, base on Jensen’s inequality, we have $f(EX) ≥ E[f(X)]$ and get a lower-bound of $log \\mathcal{l}$:\n",
    "\n",
    "\\begin{align*}\n",
    "% Expectation symbol\n",
    "\\mathrm{log \\mathcal{l}} \n",
    "&= \\sum_{i=1}^{m} \\mathrm{log} \\bigg (\\sum_{z^{(i)}} p(x^{(i)}, z^{(i)} | \\theta) \\bigg) + \\mathrm{log}(p(\\theta)) \\\\\n",
    "&= \\sum_{i=1}^{m} \\mathrm{log} \\bigg (\\sum_{z^{(i)}} Q_i(z^{(i)}) \\frac{p(x^{(i)}, z^{(i)}| \\theta)}{Q_i(z^{(i)})} \\bigg) + \\mathrm{log}(p(\\theta)) \\\\\n",
    "&\\geq \\sum_{i=1}^{m} \\bigg (\\sum_{z^{(i)}} Q_i(z^{(i)}) \\mathrm{log} \\frac{p(x^{(i)}, z^{(i)}| \\theta)}{Q_i(z^{(i)})} \\bigg) + \\mathrm{log}(p(\\theta)) \\\\\n",
    "\\end{align*}\n",
    "where $Q_i$ is a distribution over $z$ for data point $i$."
   ]
  },
  {
   "cell_type": "markdown",
   "metadata": {
    "deletable": true,
    "editable": true
   },
   "source": [
    "We want to tighten the lower bound (i.e. convert $\\ge$ into $=$), which is easily achievable by setting \n",
    "$\\frac{p(x^{(i)}, z^{(i)}| \\theta)}{Q_i(z^{(i)})}$ a constant, i.e. let\n",
    "\n",
    "$$\\frac{p(x^{(i)}, z^{(i)}| \\theta)}{Q_i(z^{(i)})} = c$$"
   ]
  },
  {
   "cell_type": "markdown",
   "metadata": {
    "deletable": true,
    "editable": true
   },
   "source": [
    "Also, since $Q_i$ is a probability distribution, so it should sum up to one over $z$. So,\n",
    "\n",
    "\\begin{align*}\n",
    "\\sum_{z^{(i)}} Q_{i}(z^{(i)}) = \\sum_{z^{(i)}} \\frac{p(x^{(i)}, z^{(i)}| \\theta)}{c} = 1\n",
    "\\end{align*}\n",
    "Then,\n",
    "\n",
    "$$ c = \\frac{1}{\\sum_{z^{(i)}} p(x^{(i)}, z^{(i)}| \\theta)} = \\frac{1}{p(x^{(i)}| \\theta)} $$\n",
    "\n",
    "So,\n",
    "\n",
    "\\begin{align*}\n",
    "Q_i(z^{(i)})\n",
    "&= \\frac{p(x^{(i)}, z^{(i)}| \\theta)}{p(x^{(i)}| \\theta)}\n",
    "\\\\\n",
    "&= p(z^{(i)} | x^{(i)}, \\theta)\n",
    "\\end{align*}"
   ]
  },
  {
   "cell_type": "markdown",
   "metadata": {
    "deletable": true,
    "editable": true
   },
   "source": [
    "### EM algorithm\n",
    "In the **E-step**, for each data point $i$, set\n",
    "\n",
    "$$Q_i(z^{(i)}) = p(z^{(i)} | x^{(i)}, \\theta)$$\n",
    "In the **M-step**, parameterize $\\theta$ to maximize $\\mathrm{log MAP}$,\n",
    "\\begin{align*}\n",
    "\\theta &= \\arg\\!\\max_{\\theta} (\\mathrm{logMAP}) \\\\\n",
    "&= \\arg\\!\\max_{\\theta} \\bigg[ \\sum_{i=1}^{m} \\bigg (\\sum_{z^{(i)}} Q_i(z^{(i)}) \\mathrm{log} \\frac{p(x^{(i)}, z^{(i)}| \\theta)}{Q_i(z^{(i)})} \\bigg) + \\mathrm{log}(p(\\theta)) \\bigg] \\\\\n",
    "\\end{align*}"
   ]
  },
  {
   "cell_type": "markdown",
   "metadata": {
    "deletable": true,
    "editable": true
   },
   "source": [
    "### EM is monotonically improving $log\\mathcal{l}$"
   ]
  },
  {
   "cell_type": "markdown",
   "metadata": {
    "deletable": true,
    "editable": true
   },
   "source": [
    "\\begin{align*}\n",
    "\\mathrm{log \\mathcal{l}}(\\theta^{(t+1)})\n",
    "&= \\sum_{i=1}^{m} \\mathrm{log} \\bigg (\\sum_{z^{(i)}} Q_i^{(t+1)}(z^{(i)}) \\frac{p(x^{(i)}, z^{(i)}| \\theta^{(t+1)})}{Q_i^{(t+1)}(z^{(i)})} \\bigg) + \\mathrm{log}(p(\\theta^{(t+1)}))\n",
    "\\\\\n",
    "&\\ge \\sum_{i=1}^{m} \\bigg (\\sum_{z^{(i)}} Q_i^{(t)}(z^{(i)}) \\mathrm{log} \\frac{p(x^{(i)}, z^{(i)}| \\theta^{(t+1)})}{Q_i^{(t)}(z^{(i)})} \\bigg) + \\mathrm{log}(p(\\theta^{(t+1)})) \\\\\n",
    "&\\ge \\sum_{i=1}^{m} \\bigg (\\sum_{z^{(i)}} Q_i^{(t)}(z^{(i)}) \\mathrm{log} \\frac{p(x^{(i)}, z^{(i)}| \\theta^{(t)})}{Q_i^{(t)}(z^{(i)})} \\bigg) + \\mathrm{log}(p(\\theta^{(t)})) \\\\\n",
    "&= \\mathrm{log \\mathcal{l}}(\\theta^{(t)})\n",
    "\\end{align*}\n"
   ]
  }
 ],
 "metadata": {
  "kernelspec": {
   "display_name": "AIND",
   "language": "python",
   "name": "aind"
  },
  "language_info": {
   "codemirror_mode": {
    "name": "ipython",
    "version": 3
   },
   "file_extension": ".py",
   "mimetype": "text/x-python",
   "name": "python",
   "nbconvert_exporter": "python",
   "pygments_lexer": "ipython3",
   "version": "3.6.0"
  }
 },
 "nbformat": 4,
 "nbformat_minor": 2
}
