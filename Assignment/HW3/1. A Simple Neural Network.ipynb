{
 "cells": [
  {
   "cell_type": "markdown",
   "metadata": {
    "deletable": true,
    "editable": true
   },
   "source": [
    "## (a)"
   ]
  },
  {
   "cell_type": "markdown",
   "metadata": {
    "deletable": true,
    "editable": true
   },
   "source": [
    "Assume $z^{[1]}$ and $z^{[2]}$ is the output of affine layer.\n",
    "\\begin{align*}\n",
    "\\frac{\\partial l}{\\partial w_{1,2}^{[1]}} &= \n",
    "\\frac{\\partial l}{\\partial o} \\frac{\\partial o}{\\partial z^{[2]}} \\frac{\\partial z^{[2]}}{\\partial h_2} \n",
    "\\frac{\\partial h_2}{\\partial z^{[1]}_2} \\frac{\\partial z^{[1]}_2}{\\partial w_{1,2}^{[1]}} \\\\\n",
    "&= \\frac{1}{m} \\sum_{i = 1}^{m} 2(o^{(i)} - y^{(i)}) o^{(i)} (1 - o^{(i)})  w_2^{[2]}  h_2 (1 - h_2)  x^{(i)}_1\n",
    "\\end{align*}"
   ]
  },
  {
   "cell_type": "markdown",
   "metadata": {
    "deletable": true,
    "editable": true
   },
   "source": [
    "## (b)"
   ]
  },
  {
   "cell_type": "markdown",
   "metadata": {
    "collapsed": true,
    "deletable": true,
    "editable": true
   },
   "source": [
    "Points in triangle $ABC$ are 1 and that in outside are 0. \n",
    "\\begin{align*}\n",
    "A &: (0.25, 0.25) \\\\\n",
    "B &: (0.25, 4) \\\\\n",
    "C &: (4, 0.25)\n",
    "\\end{align*}\n",
    "We have:\n",
    "\\begin{align*}\n",
    "AB &: - 0.25 + x_1 + 0 = 0 \\\\\n",
    "BC &: - 4.25 + x_1 + x_2  = 0 \\\\\n",
    "AC &: - 0.25 + 0 +  x_2  = 0\n",
    "\\end{align*}\n",
    "We support $AB, BC, AC$ to be $h_1, h_2, h_3$ then.\n",
    "\\begin{align*}\n",
    "W^{[1]} = \n",
    "\\begin{bmatrix}\n",
    " -0.25 & -4.25 & -0.25 \\\\ \n",
    " 1 & 1 & 0 \\\\ \n",
    " 0 & 1 & 1\n",
    "\\end{bmatrix} \n",
    "\\end{align*}\n",
    "If the date is in the triangle, we have $h_1 > 0, h_2 < 0, h_3 > 0$, then:\n",
    "\\begin{align*}\n",
    "W^{[2]} = \n",
    "\\begin{bmatrix}\n",
    "-2.5 \\\\\n",
    "1 \\\\\n",
    "-1 \\\\\n",
    "1 \\\\\n",
    "\\end{bmatrix} \n",
    "\\end{align*}"
   ]
  },
  {
   "cell_type": "markdown",
   "metadata": {
    "deletable": true,
    "editable": true
   },
   "source": [
    "## (c)"
   ]
  },
  {
   "cell_type": "markdown",
   "metadata": {
    "deletable": true,
    "editable": true
   },
   "source": [
    "No, the current classes cannot be linearly separate.  \n",
    "If activation functions for h be the linear function, then:  $$o = f(x W^{[1]} W^{[2]})$$\n",
    "This is a line in 2-D space, the data cannot be separate by a single line."
   ]
  }
 ],
 "metadata": {
  "kernelspec": {
   "display_name": "Python_AIND",
   "language": "python",
   "name": "aind"
  },
  "language_info": {
   "codemirror_mode": {
    "name": "ipython",
    "version": 3
   },
   "file_extension": ".py",
   "mimetype": "text/x-python",
   "name": "python",
   "nbconvert_exporter": "python",
   "pygments_lexer": "ipython3",
   "version": "3.6.0"
  }
 },
 "nbformat": 4,
 "nbformat_minor": 2
}
