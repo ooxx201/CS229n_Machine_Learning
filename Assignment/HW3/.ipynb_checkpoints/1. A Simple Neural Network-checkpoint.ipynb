{
 "cells": [
  {
   "cell_type": "markdown",
   "metadata": {
    "deletable": true,
    "editable": true
   },
   "source": [
    "## (a)"
   ]
  },
  {
   "cell_type": "markdown",
   "metadata": {},
   "source": [
    "Assume $z^{[1]}$ and $z^{[2]}$ is the output of affine layer.\n",
    "\\begin{align*}\n",
    "\\frac{\\partial l}{\\partial w_{1,2}^{[1]}} &= \n",
    "\\frac{\\partial l}{\\partial o} \\frac{\\partial o}{\\partial z^{[2]}} \\frac{\\partial z^{[2]}}{\\partial h_2} \n",
    "\\frac{\\partial h_2}{\\partial z^{[1]}_2} \\frac{\\partial z^{[1]}_2}{\\partial w_{1,2}^{[1]}} \\\\\n",
    "&= \\frac{1}{m} \\sum_{i = 1}^{m} 2(o^{(i)} - y^{(i)}) o^{(i)} (1 - o^{(i)})  w_2^{[2]}  h_2 (1 - h_2)  x^{(i)}_1\n",
    "\\end{align*}"
   ]
  },
  {
   "cell_type": "markdown",
   "metadata": {
    "deletable": true,
    "editable": true
   },
   "source": [
    "## (b)"
   ]
  },
  {
   "cell_type": "code",
   "execution_count": null,
   "metadata": {
    "collapsed": true
   },
   "outputs": [],
   "source": [
    "Suppose three "
   ]
  },
  {
   "cell_type": "markdown",
   "metadata": {
    "deletable": true,
    "editable": true
   },
   "source": [
    "## (c)"
   ]
  }
 ],
 "metadata": {
  "kernelspec": {
   "display_name": "Python_AIND",
   "language": "python",
   "name": "aind"
  },
  "language_info": {
   "codemirror_mode": {
    "name": "ipython",
    "version": 3
   },
   "file_extension": ".py",
   "mimetype": "text/x-python",
   "name": "python",
   "nbconvert_exporter": "python",
   "pygments_lexer": "ipython3",
   "version": "3.6.0"
  }
 },
 "nbformat": 4,
 "nbformat_minor": 2
}
