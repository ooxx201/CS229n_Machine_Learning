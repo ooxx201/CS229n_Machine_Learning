{
 "cells": [
  {
   "cell_type": "markdown",
   "metadata": {},
   "source": [
    "\\begin{align*}\n",
    "KL(P \\parallel Q)\n",
    "&= KL(P(X) \\parallel Q(X)) \\\\\n",
    "&= \\sum_{x} P(x) \\log \\frac{P(x)}{Q(x)}\n",
    "\\end{align*}"
   ]
  },
  {
   "cell_type": "markdown",
   "metadata": {
    "collapsed": true,
    "deletable": true,
    "editable": true
   },
   "source": [
    "### (a)"
   ]
  },
  {
   "cell_type": "markdown",
   "metadata": {},
   "source": [
    "Since $f(x) = − log x$ is strictly convex and $f(EX) ≥ E[f(X)]$.\n",
    "\\begin{align*}\n",
    "\\forall P, Q \\;\\;\\; KL(P\\parallel Q) &= \\sum_{x} P(x) \\log \\frac{P(x)}{Q(x)} \\\\\n",
    "                                     &= \\sum_{x} P(x) -\\log \\frac{Q(x)}{P(x)} \\\\\n",
    "                                     &= E_{x\\sim P(x)}[f(\\frac{Q(x)}{P(x)})] \\\\\n",
    "                                     &\\ge f(E_{x\\sim P(x)}[\\frac{Q(x)}{P(x)}]) \\\\\n",
    "                                     &= -log(E_{x\\sim P(x)}[\\frac{Q(x)}{P(x)}]) \\\\\n",
    "                                     &= -log \\sum_{x} P(x) \\frac{Q(x)}{P(x)} \\\\\n",
    "                                     &= -log \\sum_{x} Q(x) \\\\\n",
    "                                     &= -log 1 \\\\\n",
    "                                     &= 0\n",
    "\\end{align*}\n",
    "Therefor:\n",
    "$$\\forall P, Q \\;\\;\\; KL(P\\parallel Q) \\ge 0$$"
   ]
  },
  {
   "cell_type": "markdown",
   "metadata": {},
   "source": [
    "If $P = Q$:\n",
    "\\begin{align*}\n",
    "KL(P \\parallel Q) &= \\sum_{x} P(x) \\log \\frac{P(x)}{Q(x)} \\\\\n",
    "                  &= \\sum_{x} P(x) * 0 \\\\\n",
    "                  &= 0\n",
    "\\end{align*}\n",
    "If $KL(P \\parallel Q) = 0$:  \n",
    "\\begin{align*}\n",
    "                    KL(P\\parallel Q) &= E_{x\\sim P(x)}[f(\\frac{Q(x)}{P(x)})] \\\\\n",
    "                                     &\\ge f(E_{x\\sim P(x)}[\\frac{Q(x)}{P(x)}]) \\\\\n",
    "                                     &= 0\n",
    "\\end{align*}\n",
    "Since $f(x) = − log x$ is strictly convex, we have $f(EX) ≥ E[f(X)]$, and then $E[f(X)] = f(EX)$ holds true if and\n",
    "only if $X = E[X]$ with probability 1.  \n",
    "Thus $KL(P \\parallel Q) = 0$ if and only if $\\frac{Q(x)}{P(x)} = E[\\frac{Q(x)}{P(x)}]$ with probability 1. \n",
    "Therefore:\n",
    "\\begin{align*}\n",
    "f(E_{x\\sim P(x)}[\\frac{Q(x)}{P(x)}]) &= f(\\frac{Q(x)}{P(x)}) \\\\\n",
    "                                     &= -log \\frac{Q(x)}{P(x)} \\\\\n",
    "                                     &= 0\n",
    "\\end{align*}\n",
    "Thus:\n",
    "\\begin{align*}\n",
    "\\frac{Q(x)}{P(x)}  &= 1 \\\\\n",
    "Q(x) &= P(x)\n",
    "\\end{align*}"
   ]
  },
  {
   "cell_type": "markdown",
   "metadata": {},
   "source": [
    "### (b)"
   ]
  },
  {
   "cell_type": "markdown",
   "metadata": {},
   "source": [
    "Given:\n",
    "\\begin{align*}\n",
    "KL(P(X) \\parallel Q(X)) &= \\sum_{x} P(x) \\log \\frac{P(x)}{Q(x)}  \\\\\n",
    "KL(P(X|Y) \\parallel Q(X|Y)) &= \\sum_y P(y) \\bigg (\\sum_x P(x|y) \\log \\frac{P(x|y)}{Q(x|y)} \\bigg)\n",
    "\\end{align*}"
   ]
  },
  {
   "cell_type": "markdown",
   "metadata": {},
   "source": [
    "Prove \n",
    "$$\n",
    "KL(P(X, Y) \\parallel Q(X, Y)) = KL(P(X) \\parallel Q(X)) + KL(P(Y|X) \\parallel Q(Y|X))\n",
    "$$"
   ]
  },
  {
   "cell_type": "markdown",
   "metadata": {},
   "source": [
    "Then:\n",
    "\\begin{align*}\n",
    "KL(P(X, Y) \\parallel Q(X, Y)) &= \\sum_{x, y} P(x, y) \\log \\frac{P(x, y)}{Q(x, y)}  \\\\ \n",
    "                              &= \\sum_{x} \\sum_{y} P(x, y) \\log \\frac{P(x, y)}{Q(x, y)}  \\\\ \n",
    "                              &= \\sum_{x} \\sum_{y} P(y|x)P(x) \\log \\frac{P(y|x)P(x)}{Q(y|x)Q(x)}  \\\\ \n",
    "                              &= \\sum_{x} \\sum_{y} P(y|x)P(x) (log \\frac{P(y|x)}{Q(y|x)} + log \\frac{P(x)}{Q(x)}) \\\\\n",
    "                              &= \\sum_{x} P(x) log \\frac{P(x)}{Q(x)} \\bigg (\\sum_{y} P(y|x) \\bigg ) \n",
    "                               + \\sum_{x} P(x) \\bigg (\\sum_{y} P(y|x) log \\frac{P(y|x)}{Q(y|x)} \\bigg ) \\\\\n",
    "                              &= \\sum_{x} P(x) log \\frac{P(x)}{Q(x)} \n",
    "                               + \\sum_{x} P(x) \\bigg (\\sum_{y} P(y|x) log \\frac{P(y|x)}{Q(y|x)} \\bigg ) \\\\\n",
    "                              &= KL(P(X) \\parallel Q(X)) + KL(P(Y|X) \\parallel Q(Y|X))\n",
    "\\end{align*}"
   ]
  },
  {
   "cell_type": "markdown",
   "metadata": {},
   "source": [
    "### (c)"
   ]
  },
  {
   "cell_type": "markdown",
   "metadata": {},
   "source": [
    "Given \n",
    "\n",
    "$$ \\hat P(x) = \\frac{1}{m} \\sum_{i=1}^{m} 1 \\{x^{(i)} = x\\}$$"
   ]
  },
  {
   "cell_type": "markdown",
   "metadata": {},
   "source": [
    "Prove \n",
    "\n",
    "$$ \\arg\\!\\min_{\\theta} KL(\\hat P \\parallel P_{\\theta}) = \\arg\\!\\max_{\\theta} \\sum_{i=1}^{m} \\log P_{\\theta} (x^{(i)})$$"
   ]
  },
  {
   "cell_type": "markdown",
   "metadata": {},
   "source": [
    "\\begin{align*}\n",
    "KL(\\hat P \\parallel P_{\\theta}) \n",
    "&= \\sum_x \\hat P(x) \\log \\frac{\\hat P(x)}{P_{\\theta}(x)} \\\\\n",
    "&= -\\sum_x \\hat P(x) \\log \\frac{P_{\\theta}(x)}{\\hat P(x)} \\\\\n",
    "&= -\\sum_x \\frac{1}{m} \\sum_{i=1}^{m} 1 \\{x^{(i)} = x\\} \\log \\frac{P_{\\theta}(x)}{\\frac{1}{m} \\sum_{i=1}^{m} 1 \\{x^{(i)} = x\\}} \\\\\n",
    "&= -\\frac{1}{m} \\sum_{i=1}^{m} \\sum_x 1 \\{x^{(i)} = x\\} \\log \\frac{P_{\\theta}(x)}{\\frac{1}{m} \\sum_{i=1}^{m} 1 \\{x^{(i)} = x\\}} \\\\\n",
    "&= -\\frac{1}{m} \\sum_{i=1}^{m} 1 \\{x^{(i)} = x^{(i)}\\} \\log \\frac{P_{\\theta}(x)}{\\frac{1}{m} \\sum_{i=1}^{m} 1 \\{x^{(i)} = x^{(i)}\\}} \\\\\n",
    "&= -\\frac{1}{m} \\sum_{i=1}^{m} \\log \\frac{P_{\\theta}(x)}{\\frac{1}{m} \\sum_{i=1}^{m} 1} \\\\\n",
    "&= -\\frac{1}{m} \\sum_{i=1}^{m} \\log P_{\\theta}(x) \\\\\n",
    "\\end{align*}\n",
    "m is a constent, thus:\n",
    "$$ \\arg\\!\\min_{\\theta} KL(\\hat P \\parallel P_{\\theta}) = \\arg\\!\\max_{\\theta} \\sum_{i=1}^{m} \\log P_{\\theta} (x^{(i)})$$"
   ]
  }
 ],
 "metadata": {
  "kernelspec": {
   "display_name": "AIND",
   "language": "python",
   "name": "aind"
  },
  "language_info": {
   "codemirror_mode": {
    "name": "ipython",
    "version": 3
   },
   "file_extension": ".py",
   "mimetype": "text/x-python",
   "name": "python",
   "nbconvert_exporter": "python",
   "pygments_lexer": "ipython3",
   "version": "3.6.0"
  }
 },
 "nbformat": 4,
 "nbformat_minor": 2
}
