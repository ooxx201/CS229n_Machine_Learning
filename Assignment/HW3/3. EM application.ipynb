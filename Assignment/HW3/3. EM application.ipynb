{
 "cells": [
  {
   "cell_type": "markdown",
   "metadata": {
    "collapsed": true,
    "deletable": true,
    "editable": true
   },
   "source": [
    "## (a)"
   ]
  },
  {
   "cell_type": "markdown",
   "metadata": {
    "deletable": true,
    "editable": true
   },
   "source": [
    "### (i)"
   ]
  },
  {
   "cell_type": "markdown",
   "metadata": {
    "deletable": true,
    "editable": true
   },
   "source": [
    "$$y^{(pr)} \\sim \\mathcal{N}(\\mu_p, \\sigma_p^2)$$\n",
    "$$z^{(pr)} \\sim \\mathcal{N}(\\nu_r, \\tau_r^2)$$\n",
    "$$x^{(pr)} | y^{(pr)}, z^{(pr)} \\sim \\mathcal{N}(y^{(pr)} + z^{(pr)}, \\sigma^2 )$$"
   ]
  },
  {
   "cell_type": "markdown",
   "metadata": {
    "deletable": true,
    "editable": true
   },
   "source": [
    "Since $$x^{(pr)} = y^{(pr)} + z^{(pr)} + \\epsilon^{(pr)} \\text{,  where  } \\epsilon \\sim \\mathcal{N}(0, \\sigma^2)$$\n",
    "We have:\n",
    "$$x^{(pr)} \\sim \\mathcal{N}(\\mu_p + \\nu_r, \\sigma_p^2 + \\tau_r^2 + \\sigma^2 )$$"
   ]
  },
  {
   "cell_type": "markdown",
   "metadata": {
    "deletable": true,
    "editable": true
   },
   "source": [
    "For $p(y^{(pr)}, z^{(pr)}, x^{(pr)})$:  \n",
    "\\begin{align*}\n",
    "\\mu^{(pr)} &= \n",
    "\\begin{bmatrix}\n",
    "\\mu_p \\\\\n",
    "\\nu_r \\\\\n",
    "\\mu_p + \\nu_r \\\\\n",
    "\\end{bmatrix} \n",
    "\\\\\n",
    "\\Sigma^{(pr)} &= \n",
    "\\begin{bmatrix}\n",
    "\\sigma_p^2 & 0        & \\sigma_p^2                        \\\\\n",
    "0          & \\tau_r^2 & \\tau_r^2                          \\\\\n",
    "\\sigma_p^2 & \\tau_r^2 & \\sigma_p^2 + \\tau_r^2 + \\sigma^2\n",
    "\\end{bmatrix} \n",
    "\\end{align*}"
   ]
  },
  {
   "cell_type": "markdown",
   "metadata": {
    "deletable": true,
    "editable": true
   },
   "source": [
    "### (ii)"
   ]
  },
  {
   "cell_type": "markdown",
   "metadata": {},
   "source": [
    "According to $\\mu^{(pr)}$ and $\\Sigma^{(pr)}$, we have:\n",
    "\\begin{align*}\n",
    "\\mu^{(pr)}_{1} &= \n",
    "\\begin{bmatrix}\n",
    "\\mu_p \\\\\n",
    "\\nu_r \\\\\n",
    "\\end{bmatrix} \n",
    "\\\\\n",
    "\\mu^{(pr)}_{2} &= \\mu_p + \\nu_r \n",
    "\\\\\n",
    "\\Sigma^{(pr)}_{11} &= \n",
    "\\begin{bmatrix}\n",
    "\\sigma_p^2 & 0         \\\\\n",
    "0          & \\tau_r^2  \\\\\n",
    "\\end{bmatrix} \n",
    "\\\\\n",
    "\\Sigma^{(pr)}_{22} &= \\sigma_p^2 + \\tau_r^2 + \\sigma^2 \n",
    "\\\\\n",
    "\\Sigma^{(pr)}_{12} &= \n",
    "\\begin{bmatrix}\n",
    "\\sigma_p^2                        \\\\\n",
    "\\tau_r^2                          \\\\\n",
    "\\end{bmatrix} \n",
    "\\end{align*}"
   ]
  },
  {
   "cell_type": "markdown",
   "metadata": {},
   "source": [
    "Since:\n",
    "\\begin{align*}\n",
    "\\mu_{1|2}    &= \\mu_1 + \\Sigma_{12}\\Sigma_{22}^{-1}(x_2 - \\mu_2) \\\\\n",
    "\\Sigma_{1|2} &= \\Sigma_{11} - \\Sigma_{12}\\Sigma_{22}^{-1}\\Sigma_{21}  \\\\\n",
    "\\end{align*}\n",
    "\n",
    "\n",
    "Then:\n",
    "\\begin{align*}\n",
    "\\mu_{1|2}    &= \\mu_1 + \\Sigma_{12}\\Sigma_{22}^{-1}(x_2 - \\mu_2) \\\\\n",
    "             &= \\begin{bmatrix}\n",
    "\\mu_p \\\\\n",
    "\\nu_r \\\\\n",
    "\\end{bmatrix} + \\begin{bmatrix}\n",
    "\\sigma_p^2                        \\\\\n",
    "\\tau_r^2                          \\\\\n",
    "\\end{bmatrix} \\frac{1}{\\sigma_p^2 + \\tau_r^2 + \\sigma^2} (x^{(pr)} - \\mu_p - \\nu_r) \\\\\n",
    "            &= \\begin{bmatrix}\n",
    "\\mu_p \\\\\n",
    "\\nu_r \\\\\n",
    "\\end{bmatrix} + \\frac{x^{(pr)} - \\mu_p - \\nu_r}{\\sigma_p^2 + \\tau_r^2 + \\sigma^2} \\begin{bmatrix}\n",
    "\\sigma_p^2                        \\\\\n",
    "\\tau_r^2                          \\\\\n",
    "\\end{bmatrix}\n",
    "\\\\\n",
    "\\\\\n",
    "\\Sigma_{1|2} &= \\Sigma_{11} - \\Sigma_{12}\\Sigma_{22}^{-1}\\Sigma_{21}  \\\\\n",
    "             &= \\begin{bmatrix}\n",
    "\\sigma_p^2 & 0         \\\\\n",
    "0          & \\tau_r^2  \\\\\n",
    "\\end{bmatrix}  - \\begin{bmatrix}\n",
    "\\sigma_p^2                        \\\\\n",
    "\\tau_r^2                          \\\\\n",
    "\\end{bmatrix} \\frac{1}{\\sigma_p^2 + \\tau_r^2 + \\sigma^2} \n",
    "\\begin{bmatrix} \n",
    "\\sigma_p^2 & \\tau_r^2\\\\\n",
    "\\end{bmatrix} \\\\\n",
    "&= \\begin{bmatrix}\n",
    "\\sigma_p^2 & 0        \\\\ \n",
    "0          & \\tau_r^2 \\\\ \n",
    "\\end{bmatrix} - \\frac{1}{\\sigma_p^2 + \\tau_r^2 + \\sigma^2} \\begin{bmatrix}\n",
    "\\sigma_p^4          & \\sigma_p^2 \\tau_t^2 \\\\\n",
    "\\sigma_p^2 \\tau_t^2 & \\tau_t^4            \\\\\n",
    "\\end{bmatrix} \n",
    "\\end{align*}"
   ]
  },
  {
   "cell_type": "markdown",
   "metadata": {},
   "source": [
    "We have:\n",
    "\\begin{align*}\n",
    "Q_{pr}(y^{(pr)}, z^{(pr)})\n",
    "&= p(y^{(pr)}, z^{(pr)} | x^{(pr)}) \\\\\n",
    "&= \\frac{1}{\\sqrt{2\\pi}\\left|\\Sigma_{1|2}\\right|^{\\frac{1}{2}}} \\exp{\\bigg(-\\frac{1}{2} \\bigg(\n",
    "\\begin{bmatrix}\n",
    "y^{(pr)} \\\\\n",
    "z^{(pr)} \\\\\n",
    "\\end{bmatrix}\n",
    " - \\mu_{1|2}\\bigg)^T\\Sigma_{1|2}^{-1} \\bigg(\n",
    "\\begin{bmatrix}\n",
    "y^{(pr)} \\\\\n",
    "z^{(pr)} \\\\\n",
    "\\end{bmatrix}\n",
    " - \\mu_{1|2} \\bigg) \n",
    "\\bigg)} \\\\\n",
    "\\end{align*}"
   ]
  },
  {
   "cell_type": "markdown",
   "metadata": {
    "deletable": true,
    "editable": true
   },
   "source": [
    "## (b)"
   ]
  },
  {
   "cell_type": "markdown",
   "metadata": {},
   "source": [
    "Suppose: \n",
    "\\begin{align*}\n",
    "w_{(y^{(pr)}, z^{(pr)})}= Q_{pr}(y^{(pr)}, z^{(pr)})\n",
    "\\end{align*}"
   ]
  },
  {
   "cell_type": "markdown",
   "metadata": {},
   "source": [
    "\\begin{align*}\n",
    "l(\\mu_p, \\nu_r, \\sigma_p^2, \\tau_r^2)  \n",
    "&= \n",
    "\\sum_{p=1}^{P} \\sum_{r=1}^{R} \\sum_{(y,z)}Q_{pr}(y^{(pr)}, z^{(pr)})\\log \\frac{p(y^{(pr)}, z^{(pr)}, x^{(pr)})}{Q_{pr}(y^{(pr)}, z^{(pr)})}\n",
    "\\\\ \n",
    "&=\n",
    "\\sum_{p=1}^{P} \\sum_{r=1}^{R} \\sum_{(y,z)} w_{(y^{(pr)}, z^{(pr)})} \\log \\frac{p(y^{(pr)}, z^{(pr)}, x^{(pr)})}{w_{(y^{(pr)}, z^{(pr)})}}\n",
    "\\\\\n",
    "&=\n",
    "\\sum_{p=1}^{P} \\sum_{r=1}^{R} \\sum_{(y,z)} w_{(y^{(pr)}, z^{(pr)})} \\log \\frac{\\frac{1}{(2\\pi)^{2/3} \\left|\\Sigma^{(pr)}\\right|^{1/2}} \\exp \\bigg(-\\frac{1}{2}(a^{(pr)} - \\mu^{(pr)})^T (\\Sigma^{(pr)})^{-1} (a^{(pr)} - \\mu^{(pr)}) \\bigg)}{w_{(y^{(pr)}, z^{(pr)})}} \\\\\n",
    "&= \\sum_{p=1}^{P} \\sum_{r=1}^{R} \\sum_{(y,z)} w_{(y^{(pr)}, z^{(pr)})}\\bigg (\\log \\frac{1}{(2\\pi)^{2/3} \\left|\\Sigma^{(pr)}\\right|^{1/2}} - \\frac{1}{2}(a^{(pr)} - \\mu^{(pr)})^T (\\Sigma^{(pr)})^{-1} (a^{(pr)} - \\mu^{(pr)}) - \\log w_{(y^{(pr)}, z^{(pr)})} \\bigg ) \\\\\n",
    "\\end{align*}\n",
    "\n",
    "Where:\n",
    "\\begin{align*}\n",
    "a^{(pr)} &= \n",
    "\\begin{bmatrix}\n",
    "y^{(pr)} \\\\\n",
    "z^{(pr)} \\\\\n",
    "x^{(pr)} \\\\\n",
    "\\end{bmatrix} \n",
    "\\end{align*}"
   ]
  },
  {
   "cell_type": "code",
   "execution_count": null,
   "metadata": {
    "collapsed": true
   },
   "outputs": [],
   "source": []
  }
 ],
 "metadata": {
  "kernelspec": {
   "display_name": "Python_AIND",
   "language": "python",
   "name": "aind"
  },
  "language_info": {
   "codemirror_mode": {
    "name": "ipython",
    "version": 3
   },
   "file_extension": ".py",
   "mimetype": "text/x-python",
   "name": "python",
   "nbconvert_exporter": "python",
   "pygments_lexer": "ipython3",
   "version": "3.6.0"
  }
 },
 "nbformat": 4,
 "nbformat_minor": 2
}
