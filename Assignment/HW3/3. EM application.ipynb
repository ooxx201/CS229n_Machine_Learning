{
 "cells": [
  {
   "cell_type": "markdown",
   "metadata": {
    "collapsed": true,
    "deletable": true,
    "editable": true
   },
   "source": [
    "## (a)"
   ]
  },
  {
   "cell_type": "markdown",
   "metadata": {},
   "source": [
    "### (i)"
   ]
  },
  {
   "cell_type": "markdown",
   "metadata": {},
   "source": [
    "$$y^{(pr)} \\sim \\mathcal{N}(\\mu_p, \\sigma_p^2)$$\n",
    "$$z^{(pr)} \\sim \\mathcal{N}(\\nu_r, \\tau_r^2)$$\n",
    "$$x^{(pr)} | y^{(pr)}, z^{(pr)} \\sim \\mathcal{N}(y^{(pr)} + z^{(pr)}, \\sigma^2 )$$"
   ]
  },
  {
   "cell_type": "markdown",
   "metadata": {},
   "source": [
    "Since $$x^{(pr)} = y^{(pr)} + z^{(pr)} + \\epsilon^{(pr)} \\text{,  where  } \\epsilon \\sim \\mathcal{N}(0, \\sigma^2)$$\n",
    "We have:\n",
    "$$x^{(pr)} \\sim \\mathcal{N}(\\mu_p + \\nu_r, \\sigma_p^2 + \\tau_r^2 + \\sigma^2 )$$"
   ]
  },
  {
   "cell_type": "markdown",
   "metadata": {
    "deletable": true,
    "editable": true
   },
   "source": [
    "For $p(y^{(pr)}, z^{(pr)}, x^{(pr)})$:  \n",
    "\\begin{align*}\n",
    "\\mu^{(pr)} &= \n",
    "\\begin{bmatrix}\n",
    "\\mu_p \\\\\n",
    "\\nu_r \\\\\n",
    "\\mu_p + \\nu_r \\\\\n",
    "\\end{bmatrix} \n",
    "\\\\\n",
    "\\Sigma_{pr} &= \n",
    "\\begin{bmatrix}\n",
    "\\sigma_p^2 & 0        & \\sigma_p^2                        \\\\\n",
    "0          & \\tau_r^2 & \\tau_r^2                          \\\\\n",
    "\\sigma_p^2 & \\tau_r^2 & \\sigma_p^2 + \\tau_r^2 + \\sigma^2\n",
    "\\end{bmatrix} \n",
    "\\end{align*}"
   ]
  },
  {
   "cell_type": "code",
   "execution_count": null,
   "metadata": {
    "collapsed": true
   },
   "outputs": [],
   "source": []
  },
  {
   "cell_type": "markdown",
   "metadata": {},
   "source": [
    "### (ii)"
   ]
  },
  {
   "cell_type": "markdown",
   "metadata": {},
   "source": [
    "## (b)"
   ]
  }
 ],
 "metadata": {
  "kernelspec": {
   "display_name": "Python_AIND",
   "language": "python",
   "name": "aind"
  },
  "language_info": {
   "codemirror_mode": {
    "name": "ipython",
    "version": 3
   },
   "file_extension": ".py",
   "mimetype": "text/x-python",
   "name": "python",
   "nbconvert_exporter": "python",
   "pygments_lexer": "ipython3",
   "version": "3.6.0"
  }
 },
 "nbformat": 4,
 "nbformat_minor": 2
}
