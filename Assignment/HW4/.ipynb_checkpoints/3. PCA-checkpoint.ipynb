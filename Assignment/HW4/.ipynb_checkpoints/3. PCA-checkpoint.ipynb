{
 "cells": [
  {
   "cell_type": "markdown",
   "metadata": {
    "collapsed": true,
    "deletable": true,
    "editable": true
   },
   "source": [
    "Since $f_u(x) = u^Txu$ :\n",
    "We have:\n",
    "\\begin{align*}\n",
    "\\mathrm{MSE}\n",
    "&= \\frac{1}{m} \\sum_{i=1}^m \\left \\| x^{(i)} - f_u(x^{(i)}) \\right \\|_2^2 \\\\\n",
    "&= \\frac{1}{m} \\sum_{i=1}^m \\big((x^{(i)} - u^Tx^{(i)}u)^T(x^{(i)} - u^Tx^{(i)}u)\\big)\\\\\n",
    "&= \\frac{1}{m} \\sum_{i=1}^m \\big(((x^{(i)})^T - u^T(x^{(i)})^Tu)(x^{(i)} - u^Tx^{(i)}u)\\big)\\\\\n",
    "&= \\frac{1}{m} \\sum_{i=1}^m \\big((x^{(i)})^T x^{(i)} - u^T(x^{(i)})^Tux^{(i)} - (x^{(i)})^Tu^Tx^{(i)}u + u^T(x^{(i)})^Tuu^Tx^{(i)}u \\big)\\\\\n",
    "&= \\frac{1}{m} \\sum_{i=1}^m \\big((x^{(i)})^T x^{(i)} - 2(u^Tx^{(i)})^2 + (u^Tx^{(i)})^2 \\big)\\\\\n",
    "&= \\frac{1}{m} \\sum_{i=1}^m \\big((x^{(i)})^T x^{(i)} - (u^Tx^{(i)})^2 \\big)\\\\\n",
    "&= \\frac{1}{m} \\sum_{i=1}^m (x^{(i)})^T x^{(i)} - \\frac{1}{m} \\sum_{i=1}^m (u^Tx^{(i)})^2 \\\\\n",
    "&= \\frac{1}{m} \\sum_{i=1}^m (x^{(i)})^T x^{(i)} - Var(u^Tx^{(i)})\\\\\n",
    "&= k - Var(u^Tx^{(i)})\\\\\n",
    "\\end{align*}\n",
    "Here:  \n",
    "We have $E[(X - \\bar X)^2] = E[X^2] - (E[X])^2$, thus: \n",
    "\\begin{align*}\n",
    "\\frac{1}{m} \\sum_{i=1}^m (u^Tx^{(i)})^2 &= \\bigg( \\frac{1}{m} \\sum_{i=1}^m u^Tx^{(i)} \\bigg)^2 + Var(u^Tx^{(i)})\n",
    "\\end{align*}\n",
    "When: $E[X] = 0$, we have \n",
    "\\begin{align*}\n",
    "\\frac{1}{m} \\sum_{i=1}^m (u^Tx^{(i)})^2 &=  Var(u^Tx^{(i)})\n",
    "\\end{align*}\n",
    "Since x has be preprocessed to have zero-mean and and unit variance in each coordinate, thus:\n",
    "\\begin{align*}\n",
    "        E[x] &= \\frac{1}{m} \\sum_{i=1}^m x^{(i)} \\\\\n",
    "             &= \\overrightarrow{0} \\\\\n",
    "        \\frac{1}{m} \\sum_{i=1}^m u^Tx^{(i)} &= 0 \\\\\n",
    "        E[(x - \\bar x)^2] &= \\frac{1}{m} \\sum_{i=1}^m (x^{(i)} + \\bar x)^T (x^{(i)} - \\bar x) \\\\\n",
    "                          &= \\frac{1}{m} \\sum_{i=1}^m (x^{(i)})^Tx^{(i)} \\\\\n",
    "                          &= k\n",
    "\\end{align*}"
   ]
  },
  {
   "cell_type": "markdown",
   "metadata": {},
   "source": [
    "Now we can see the $u$ minimizing MSE between projected points and original points maximizing the variance of projected points, which mean $u$ is the first principal component."
   ]
  }
 ],
 "metadata": {
  "kernelspec": {
   "display_name": "AIND",
   "language": "python",
   "name": "aind"
  },
  "language_info": {
   "codemirror_mode": {
    "name": "ipython",
    "version": 3
   },
   "file_extension": ".py",
   "mimetype": "text/x-python",
   "name": "python",
   "nbconvert_exporter": "python",
   "pygments_lexer": "ipython3",
   "version": "3.6.0"
  }
 },
 "nbformat": 4,
 "nbformat_minor": 2
}
