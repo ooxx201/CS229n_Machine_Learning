{
 "cells": [
  {
   "cell_type": "markdown",
   "metadata": {
    "collapsed": true,
    "deletable": true,
    "editable": true
   },
   "source": [
    "### (a)"
   ]
  },
  {
   "cell_type": "markdown",
   "metadata": {},
   "source": [
    "Suppose\n",
    "\n",
    "$$\\arg\\max_{s \\in S} \\left|V_1(s) - V_2(s) \\right| = s^* $$\n",
    "So\n",
    "$$\n",
    "\\left|\\left| V_1 - V_2 \\right| \\right|_{\\infty} = V_1(s^*) - V_2(s^*)\n",
    "$$\n",
    "Suppose\n",
    "\n",
    "$$\\arg\\max_{s \\in S} \\left|B(V_1)(s) - B(V_2)(s) \\right| = s^+ $$"
   ]
  },
  {
   "cell_type": "markdown",
   "metadata": {},
   "source": [
    "\\begin{align*}\n",
    "\\left|\\left|B(V_1) - B(V_2)\\right|\\right|_{\\infty} \n",
    "&= \\left| B(V_1)(s^+) - B(V_2)(s^+) \\right| \\\\\n",
    "&= B(V_1)(s^+) - B(V_2)(s^+)  \\\\\n",
    "&= \\gamma \\bigg(\\max_{a \\in A} \\sum_{s' \\in S} p_{s^+a}(s')V_1(s') - \\max_{a \\in A} \\sum_{s' \\in S} p_{s^+a}(s')V_2(s') \\bigg) \\\\\n",
    "\\end{align*}"
   ]
  },
  {
   "cell_type": "markdown",
   "metadata": {},
   "source": [
    "\\begin{align*}\n",
    "\\left|\\left|B(V_1) - B(V_2)\\right|\\right|_{\\infty} \n",
    "&= \\left| B(V_1)(s^+) - B(V_2)(s^+) \\right| \\\\\n",
    "&= B(V_1)(s^+) - B(V_2)(s^+)  \\\\\n",
    "&= \\gamma \\bigg(\\max_{a \\in A} \\sum_{s' \\in S} p_{s^+a}(s')V_1(s') - \\max_{a \\in A} \\sum_{s' \\in S} p_{s^+a}(s')V_2(s') \\bigg) \\\\\n",
    "&= \\gamma \\bigg(\\sum_{s' \\in S} p_{s^+a_1}(s')V_1(s') - \\sum_{s' \\in S} p_{s^+a_2}(s')V_2(s') \\bigg) \\\\\n",
    "&\\le \\gamma \\bigg(\\sum_{s' \\in S} p_{s^+a_1}(s')V_1(s') - \\sum_{s' \\in S} p_{s^+a_1}(s')V_2(s') \\bigg) \\\\\n",
    "&=  \\gamma \\sum_{s' \\in S} p_{s^+a_1}(s') \\bigg(V_1(s')- V_2(s') \\bigg) \\\\\n",
    "&\\le \\gamma \\bigg( V_1(s^*)- V_2(s^*) \\bigg) \\\\\n",
    "&= \\gamma \\left|\\left| V_1 - V_2 \\right| \\right|_{\\infty}\n",
    "\\end{align*}"
   ]
  },
  {
   "cell_type": "markdown",
   "metadata": {},
   "source": [
    "### (b)"
   ]
  },
  {
   "cell_type": "markdown",
   "metadata": {},
   "source": [
    "Assume that thre are 2 fixed point, then:\n",
    "\\begin{align*}\n",
    "\\left|\\left|B(V_1) - B(V_2)\\right|\\right|_{\\infty}  \n",
    "&= \\left|\\left| V_1 - V_2 \\right| \\right|_{\\infty} \\\\\n",
    "&\\le \\gamma \\left|\\left| V_1 - V_2 \\right| \\right|_{\\infty} \\\\\n",
    "\\end{align*}\n",
    "Then we get $\\gamma = 1$, conflict with the assumption that $\\gamma \\lt 1$.\n",
    "Thus there can be only one fixed point."
   ]
  }
 ],
 "metadata": {
  "kernelspec": {
   "display_name": "AIND",
   "language": "python",
   "name": "aind"
  },
  "language_info": {
   "codemirror_mode": {
    "name": "ipython",
    "version": 3
   },
   "file_extension": ".py",
   "mimetype": "text/x-python",
   "name": "python",
   "nbconvert_exporter": "python",
   "pygments_lexer": "ipython3",
   "version": "3.6.0"
  }
 },
 "nbformat": 4,
 "nbformat_minor": 2
}
