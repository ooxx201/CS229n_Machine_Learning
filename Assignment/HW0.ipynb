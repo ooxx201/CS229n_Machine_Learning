{
 "cells": [
  {
   "cell_type": "markdown",
   "metadata": {
    "deletable": true,
    "editable": true
   },
   "source": [
    "# Assignment1"
   ]
  },
  {
   "cell_type": "markdown",
   "metadata": {
    "deletable": true,
    "editable": true
   },
   "source": [
    "### 1\n",
    "#### (a)\n",
    "Since $\\nabla_{A^{T}} trABA^{T}C = B^{T}A^{T}C^{C} + BA^{T}C$ and $A^{T} = A$\n",
    "\\begin{equation}\n",
    "\\begin{split}\n",
    "\\nabla_{x} \\frac{1}{2}x^{T}Ax &= \\nabla_{x} tr\\frac{1}{2}x^{T}Ax\\\\\n",
    "                              &= \\nabla_{x} tr\\frac{1}{2}(x^{T}) (A) (x^{T})^{T}I\\\\\n",
    "                              &= \\frac{1}{2} (A^{T}(x^{T})^{T}I^{T} + A(x^{T})^{T}I)\\\\\n",
    "                              &= Ax\n",
    "\\end{split}\n",
    "\\end{equation}\n",
    "Since $\\nabla_{A} trAB = B^{T}$ and $trAB = trBA$ \n",
    "\\begin{equation}\n",
    "\\begin{split}\n",
    "\\nabla_{x} b^{T}x &= \\nabla_{x} trb^{T}x\\\\\n",
    "                  &= \\nabla_{x} trxb^{T}\\\\\n",
    "                  &= b\n",
    "\\end{split}\n",
    "\\end{equation}\n",
    "Thus:  \n",
    "\\begin{equation}\n",
    "\\begin{split}\n",
    "\\nabla_{x} f(x) &= \\nabla_{x} \\frac{1}{2}x^{T}Ax + \\nabla_{x} b^{T}x\\\\\n",
    "                &= Ax + b\n",
    "\\end{split}\n",
    "\\end{equation}\n",
    "#### (b)\n",
    "\\begin{equation}\n",
    "\\begin{split}\n",
    "\\nabla_{x} f(x) &= \\nabla_{x} g(h(x))\\\\\n",
    "                &=  g^{'}(h(x)) \\nabla_{x}h(x)\n",
    "\\end{split}\n",
    "\\end{equation}\n",
    "#### (c)\n",
    "\\begin{equation}\n",
    "\\begin{split}\n",
    "\\nabla_{x}^{2} f(x) &= \\nabla_{x}(\\nabla_{x} f(x))\\\\\n",
    "                &= \\nabla_{x}(Ax + b)\\\\\n",
    "                &= A\n",
    "\\end{split}\n",
    "\\end{equation}\n",
    "#### (d)\n",
    "\\begin{equation}\n",
    "\\begin{split}\n",
    "\\nabla_{x} f(x) &= \\nabla_{x} g(a^{T}x) \\\\\n",
    "                &= g^{'}(a^{T}x) \\nabla_{x} a^{T}x \\\\\n",
    "                &= g^{'}(a^{T}x) \\nabla_{x} tra^{T}x \\\\\n",
    "                &= g^{'}(a^{T}x) \\nabla_{x} trxa^{T} \\\\\n",
    "                &= g^{'}(a^{T}x) a\n",
    "\\end{split}\n",
    "\\end{equation}\n",
    "\n",
    "\\begin{equation}\n",
    "\\begin{split}\n",
    "\\nabla_{x}^{2} f(x) &= \\nabla_{x} (\\nabla_{x} f(x)) \\\\\n",
    "                    &= \\nabla_{x} (g^{'}(a^{T}x) a) \\\\\n",
    "                    &= g^{''}(a^{T}x)aa^{T}\n",
    "\\end{split}\n",
    "\\end{equation}"
   ]
  },
  {
   "cell_type": "markdown",
   "metadata": {
    "deletable": true,
    "editable": true
   },
   "source": [
    "### 2\n",
    "#### (a)\n",
    "\n",
    "Since $x^{T}z$ is a scale, $x^{T}z = (x^{T}z)^{T}$.   \n",
    "\\begin{equation}\n",
    "\\begin{split}\n",
    "x^{T}Ax &= x^{T}zz^{T}x \\\\\n",
    "        &= x^{T}z(x^{T}z)^{T} \\\\\n",
    "        &= (x^{T}z)^{2} \\\\\n",
    "        &\\geq 0\n",
    "\\end{split}\n",
    "\\end{equation}\n",
    "Thus we can prove that $A \\succeq 0$\n",
    "\n",
    "#### (b)   \n",
    "##### Null sapce  \n",
    "\n",
    "Suppose that $Av = zz^{T}v = 0$, since $z$ is non-zero vertor, we have $z^{T}v = 0$.\n",
    "\\begin{equation}\n",
    "\\begin{split}\n",
    "N(A) &= c_{2}\\begin{bmatrix}-z_{2}/z_{1} \\\\ 1 \\\\ 0 \\\\ 0 \\\\ \\vdots \\\\ 0\\end{bmatrix} +\n",
    "        c_{3}\\begin{bmatrix}-z_{2}/z_{1} \\\\ 0 \\\\ 1 \\\\ 0 \\\\ \\vdots \\\\ 0\\end{bmatrix} +\n",
    "        \\dots +\n",
    "        c_{i}\\begin{bmatrix}-z_{2}/z_{1} \\\\ 0 \\\\ \\vdots \\\\ 1 \\\\ \\vdots \\\\ 0\\end{bmatrix} + \n",
    "        \\dots +\n",
    "        c_{n}\\begin{bmatrix}-z_{2}/z_{1} \\\\ 0 \\\\ 0 \\\\ 0 \\\\ \\vdots \\\\ 1\\end{bmatrix} \\\\\n",
    "     &= \\sum_{k=2}^{n} c_{k}\n",
    "        \\begin{bmatrix} -z_{2}/z_{1} \\\\ I\\{i = k\\} \\\\ I\\{i = k\\} \\\\ \\vdots \\\\ I\\{i = k\\} \\end{bmatrix}\n",
    "\\end{split}\n",
    "\\end{equation}\n",
    "##### Rank\n",
    "\n",
    "\\begin{equation}\n",
    "\\begin{split}\n",
    "A =\\begin{bmatrix} \n",
    "    z_{1}z_{1} & z_{1}z_{2} & \\dots  & z_{1}z_{n}\\\\\n",
    "    z_{2}z_{1} & z_{2}z_{2} & \\dots  & z_{2}z_{n}\\\\\n",
    "    \\vdots     & \\vdots     & \\ddots & \\vdots    \\\\\n",
    "    z_{n}z_{1} & z_{n}z_{2} & \\dots  & z_{n}z_{n}\\\\ \n",
    "    \\end{bmatrix} \n",
    "  =\\begin{bmatrix} \n",
    "    z_{1}z^{T}                    \\\\ \n",
    "    \\frac{z_{2}}{z_{1}}z_{1}z^{T} \\\\ \n",
    "    \\vdots                        \\\\ \n",
    "    \\frac{z_{n}}{z_{1}}z_{1}z^{T} \\\\ \n",
    "    \\end{bmatrix} \n",
    "  =\\begin{bmatrix}\n",
    "    A_{1}^{T}                    \\\\\n",
    "    \\frac{z_{2}}{z_{1}}A_{1}^{T} \\\\\n",
    "    \\vdots                       \\\\\n",
    "    \\frac{z_{n}}{z_{1}}A_{1}^{T} \\\\\n",
    "    \\end{bmatrix}  \n",
    "\\end{split}\n",
    "\\end{equation}\n",
    "Since $A_{2}^{T} \\sim A_{n}^{T}$ can be converted to linear combination of $A_{1}^{T}$, rank of A is 1.\n",
    "\n",
    "#### (c)\n",
    "For arbitrary $x\\in \\mathbb{R}^{n}$, since $A \\succeq 0$ and $B^{T}x \\in\\mathbb{R}^{n}$.  \n",
    "We have $x^{T}BAB^{T}x =(B^{T}x)^{T}A(B^{T}x) \\geq 0$.  \n",
    "Thus $BAB^{T} \\succeq 0$"
   ]
  },
  {
   "cell_type": "markdown",
   "metadata": {
    "collapsed": true,
    "deletable": true,
    "editable": true
   },
   "source": []
  },
  {
   "cell_type": "code",
   "execution_count": null,
   "metadata": {
    "collapsed": true
   },
   "outputs": [],
   "source": []
  },
  {
   "cell_type": "code",
   "execution_count": null,
   "metadata": {
    "collapsed": true
   },
   "outputs": [],
   "source": []
  },
  {
   "cell_type": "code",
   "execution_count": null,
   "metadata": {
    "collapsed": true
   },
   "outputs": [],
   "source": []
  },
  {
   "cell_type": "code",
   "execution_count": null,
   "metadata": {
    "collapsed": true
   },
   "outputs": [],
   "source": []
  },
  {
   "cell_type": "code",
   "execution_count": null,
   "metadata": {
    "collapsed": true
   },
   "outputs": [],
   "source": []
  },
  {
   "cell_type": "code",
   "execution_count": null,
   "metadata": {
    "collapsed": true
   },
   "outputs": [],
   "source": []
  },
  {
   "cell_type": "code",
   "execution_count": null,
   "metadata": {
    "collapsed": true
   },
   "outputs": [],
   "source": []
  },
  {
   "cell_type": "code",
   "execution_count": null,
   "metadata": {
    "collapsed": true
   },
   "outputs": [],
   "source": []
  }
 ],
 "metadata": {
  "kernelspec": {
   "display_name": "AIND",
   "language": "python",
   "name": "aind"
  },
  "language_info": {
   "codemirror_mode": {
    "name": "ipython",
    "version": 3
   },
   "file_extension": ".py",
   "mimetype": "text/x-python",
   "name": "python",
   "nbconvert_exporter": "python",
   "pygments_lexer": "ipython3",
   "version": "3.6.0"
  }
 },
 "nbformat": 4,
 "nbformat_minor": 2
}
