{
 "cells": [
  {
   "cell_type": "markdown",
   "metadata": {},
   "source": [
    "# Assignment1"
   ]
  },
  {
   "cell_type": "markdown",
   "metadata": {},
   "source": [
    "### 1\n",
    "#### (a)\n",
    "Since $\\nabla_{A^{T}} trABA^{T}C = B^{T}A^{T}C^{C} + BA^{T}C$ and $A^{T} = A$\n",
    "\\begin{equation}\n",
    "\\begin{split}\n",
    "\\nabla_{x} \\frac{1}{2}x^{T}Ax &= \\nabla_{x} tr\\frac{1}{2}x^{T}Ax\\\\\n",
    "                              &= \\nabla_{x} tr\\frac{1}{2}(x^{T}) (A) (x^{T})^{T}I\\\\\n",
    "                              &= \\frac{1}{2} (A^{T}(x^{T})^{T}I^{T} + A(x^{T})^{T}I)\\\\\n",
    "                              &= Ax\n",
    "\\end{split}\n",
    "\\end{equation}\n",
    "Since $\\nabla_{A} trAB = B^{T}$ and $trAB = trBA$ \n",
    "\\begin{equation}\n",
    "\\begin{split}\n",
    "\\nabla_{x} b^{T}x &= \\nabla_{x} trb^{T}x\\\\\n",
    "                  &= \\nabla_{x} trxb^{T}\\\\\n",
    "                  &= b\n",
    "\\end{split}\n",
    "\\end{equation}\n",
    "Thus:  \n",
    "\\begin{equation}\n",
    "\\begin{split}\n",
    "\\nabla_{x} f(x) &= \\nabla_{x} \\frac{1}{2}x^{T}Ax + \\nabla_{x} b^{T}x\\\\\n",
    "                &= Ax + b\n",
    "\\end{split}\n",
    "\\end{equation}\n",
    "#### (b)\n",
    "\\begin{equation}\n",
    "\\begin{split}\n",
    "\\nabla_{x} f(x) &= \\nabla_{x} g(h(x))\\\\\n",
    "                &=  g^{'}(h(x)) \\nabla_{x}h(x)\n",
    "\\end{split}\n",
    "\\end{equation}\n",
    "#### (c)\n",
    "\\begin{equation}\n",
    "\\begin{split}\n",
    "\\nabla_{x}^{2} f(x) &= \\nabla_{x}(\\nabla_{x} f(x))\\\\\n",
    "                &= \\nabla_{x}(Ax + b)\\\\\n",
    "                &= A\n",
    "\\end{split}\n",
    "\\end{equation}\n",
    "#### (d)\n",
    "\\begin{equation}\n",
    "\\begin{split}\n",
    "\\nabla_{x} f(x) &= \\nabla_{x} g(a^{T}x) \\\\\n",
    "                &= g^{'}(a^{T}x) \\nabla_{x} a^{T}x \\\\\n",
    "                &= g^{'}(a^{T}x) \\nabla_{x} tra^{T}x \\\\\n",
    "                &= g^{'}(a^{T}x) \\nabla_{x} trxa^{T} \\\\\n",
    "                &= g^{'}(a^{T}x) a\n",
    "\\end{split}\n",
    "\\end{equation}\n",
    "\n",
    "\\begin{equation}\n",
    "\\begin{split}\n",
    "\\nabla_{x}^{2} f(x) &= \\nabla_{x} (\\nabla_{x} f(x)) \\\\\n",
    "                    &= \\nabla_{x} (g^{'}(a^{T}x) a) \\\\\n",
    "                    &= g^{''}(a^{T}x)aa^{T}\n",
    "\\end{split}\n",
    "\\end{equation}"
   ]
  },
  {
   "cell_type": "markdown",
   "metadata": {},
   "source": [
    "### 2\n",
    "#### (a)\n",
    "\n",
    "Since $x^{T}z$ is a scale, $x^{T}z = (x^{T}z)^{T}$.   \n",
    "\\begin{equation}\n",
    "\\begin{split}\n",
    "x^{T}Ax &= x^{T}zz^{T}x \\\\\n",
    "        &= x^{T}z(x^{T}z)^{T} \\\\\n",
    "        &= (x^{T}z)^{2} \\\\\n",
    "        &\\geq 0\n",
    "\\end{split}\n",
    "\\end{equation}\n",
    "Thus we can prove that $A \\succeq 0$\n",
    "\n",
    "#### (b)\n"
   ]
  },
  {
   "cell_type": "code",
   "execution_count": null,
   "metadata": {
    "collapsed": true
   },
   "outputs": [],
   "source": []
  },
  {
   "cell_type": "code",
   "execution_count": null,
   "metadata": {
    "collapsed": true
   },
   "outputs": [],
   "source": []
  },
  {
   "cell_type": "code",
   "execution_count": null,
   "metadata": {
    "collapsed": true
   },
   "outputs": [],
   "source": []
  }
 ],
 "metadata": {
  "kernelspec": {
   "display_name": "Python_AIND",
   "language": "python",
   "name": "aind"
  },
  "language_info": {
   "codemirror_mode": {
    "name": "ipython",
    "version": 3
   },
   "file_extension": ".py",
   "mimetype": "text/x-python",
   "name": "python",
   "nbconvert_exporter": "python",
   "pygments_lexer": "ipython3",
   "version": "3.6.0"
  }
 },
 "nbformat": 4,
 "nbformat_minor": 2
}
