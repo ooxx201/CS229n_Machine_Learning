{
 "cells": [
  {
   "cell_type": "markdown",
   "metadata": {},
   "source": [
    "# Assignment1"
   ]
  },
  {
   "cell_type": "code",
   "execution_count": 2,
   "metadata": {
    "collapsed": true
   },
   "outputs": [],
   "source": [
    "import numpy as np\n",
    "import pandas as pd\n",
    "import matplotlib.pyplot as plt\n",
    "\n",
    "%matplotlib inline"
   ]
  },
  {
   "cell_type": "markdown",
   "metadata": {},
   "source": [
    "### 1\n",
    "#### (a)\n",
    "1)\n",
    "\\begin{align*}\n",
    "J(\\theta) &= \\frac{1}{m} \\sum_{k=1}^{m} \\mathrm{log}(1 + e ^{-y^{(k)} \\theta^T x^{(k)})})\\\\\n",
    "          &= - \\frac{1}{m} \\sum_{k=1}^{m} \\mathrm{log}(g(z^{(k)})) \\\\\n",
    "\\end{align*}\n",
    "2)\n",
    "We have $\\frac{\\partial g}{\\partial z}= g(1 - g)$, thus\n",
    "\\begin{align*}\n",
    "\\frac{\\partial J(\\theta)}{\\partial \\theta_i} &= -\\frac{1}{m} \\sum_{k=1}^{m} \\frac{1}{g(z)} \\frac{\\partial g(z)}{\\partial z} \\frac{\\partial z}{\\partial \\theta_i}\\\\\n",
    "          &= -\\frac{1}{m} \\sum_{k=1}^{m} \\frac{1}{g(z)} g(z)(1-g(z)) y^{(k)} x_i^{(k)} \\\\\n",
    "          &= -\\frac{1}{m} \\sum_{k=1}^{m} (1-g(z)) y^{(k)} x_i^{(k)} \\\\\n",
    "\\end{align*}\n",
    "3) Then\n",
    "\\begin{align*}\n",
    "H_{ij} = \\frac{\\partial^2 J(\\theta)}{\\partial\\theta_i \\partial\\theta_j} &= -\\frac{1}{m} \\sum_{k=1}^{m}  \\frac{\\partial (1 - g(z))}{\\partial z} \\frac{\\partial z}{\\partial \\theta_j} y^{(k)} x_i^{(k)}\\\\\n",
    "          &= \\frac{1}{m} \\sum_{k=1}^{m} g(z)(1-g(z)) y^{(k)} x_i^{(k)} y^{(k)} x_j^{(k)} \\\\\n",
    "          &= \\frac{1}{m} \\sum_{k=1}^{m} g(z)(1-g(z)) x_i^{(k)} x_j^{(k)} \\\\\n",
    "\\end{align*}\n",
    "4) Finally\n",
    "\\begin{align*}\n",
    "z^THz &= \\sum_{i=1}^{n} \\sum_{j=1}^{n} z_i H_{ij} z_j \\\\\n",
    "      &= \\sum_{i=1}^{n} \\sum_{j=1}^{n} z_i (\\frac{1}{m} \\sum_{k=1}^{m} g(z)(1-g(z)) x_i^{(k)} x_j^{(k)}) z_j \\\\\n",
    "      & = \\frac{1}{m} \\sum_{k=1}^{m} g(z)(1-g(z)) \\sum_{i=1}^{n} \\sum_{j=1}^{n} z_i x_i^{(k)} x_j^{(k)} z_j \n",
    "\\end{align*}\n",
    "Since $ 0<g(z)<1 $ and $ \\sum_{i=1}^{n} \\sum_{j=1}^{n} z_i x_i^{(k)} x_j^{(k)} z_j =  ((x^{(k)})^{T}z)^2 $,  \n",
    "$z^T H z \\ge 0$, so $H$ is PSD, i.e. $H \\succeq 0$.\n",
    "\n",
    "PS: $\\sum_{i=1}^{n} \\sum_{j=1}^{n} z_i x_i x_j z_j$\n",
    "\\begin{align*}\n",
    "\\sum_{i=1}^{n} \\sum_{j=1}^{n} z_i x_i x_j z_j &= \\sum_{i=1}^{n} \\sum_{j=1}^{n} z_i x_j z_j x_i \\\\\n",
    "                                              &= \\sum_{i=1}^{n} (zx^T  zx^T)_{ii} \\\\\n",
    "                                              &= tr(z x^T z x^T) \\\\\n",
    "                                              &= tr(x^T z x^T z) \\\\\n",
    "                                              &= tr((x^Tz)^2) \\\\\n",
    "                                              &= (x^Tz)^2\n",
    "\\end{align*}"
   ]
  },
  {
   "cell_type": "markdown",
   "metadata": {},
   "source": [
    "#### (b)"
   ]
  },
  {
   "cell_type": "code",
   "execution_count": 63,
   "metadata": {
    "collapsed": false
   },
   "outputs": [
    {
     "data": {
      "image/png": "[encoded data removed]",
      "text/plain": [
       "<matplotlib.figure.Figure at 0x93d8198>"
      ]
     },
     "metadata": {},
     "output_type": "display_data"
    }
   ],
   "source": [
    "df_X = pd.read_csv('http://cs229.stanford.edu/ps/ps1/logistic_x.txt', sep='\\ +', header=None, engine='python')\n",
    "df_y = pd.read_csv('http://cs229.stanford.edu/ps/ps1/logistic_y.txt', sep='\\ +', header=None, engine='python')\n",
    "Xs = df_X.values\n",
    "y = df_y.values\n",
    "colors = ['blue' if i == 1 else 'red' for i in y ]\n",
    "plt.scatter(Xs[:,0], Xs[:,1], c=colors)\n",
    "plt.show()"
   ]
  },
  {
   "cell_type": "code",
   "execution_count": 64,
   "metadata": {
    "collapsed": false
   },
   "outputs": [],
   "source": [
    "#Add the intercept term\n",
    "X = np.hstack([np.ones((X.shape[0], 1)), Xs])"
   ]
  },
  {
   "cell_type": "code",
   "execution_count": 68,
   "metadata": {
    "collapsed": false
   },
   "outputs": [
    {
     "data": {
      "text/plain": [
       "array([[ 1.        ,  1.3432504 , -1.3311479 ],\n",
       "       [ 1.        ,  1.8205529 , -0.6346681 ],\n",
       "       [ 1.        ,  0.98632067, -1.8885762 ],\n",
       "       [ 1.        ,  1.9443734 , -1.635452  ],\n",
       "       [ 1.        ,  0.97673352, -1.3533151 ],\n",
       "       [ 1.        ,  1.9458584 , -2.0443278 ],\n",
       "       [ 1.        ,  2.1075153 , -2.1256684 ],\n",
       "       [ 1.        ,  2.070373  , -2.4634101 ],\n",
       "       [ 1.        ,  0.86864964, -2.4119348 ],\n",
       "       [ 1.        ,  1.8006594 , -2.7739689 ],\n",
       "       [ 1.        ,  3.1283787 , -3.4452432 ],\n",
       "       [ 1.        ,  3.0947429 , -3.6446145 ],\n",
       "       [ 1.        ,  2.9086652 , -4.0065037 ],\n",
       "       [ 1.        ,  2.6770338 , -3.0198592 ],\n",
       "       [ 1.        ,  2.7458671 , -2.7100561 ],\n",
       "       [ 1.        ,  4.1714647 , -3.4622482 ],\n",
       "       [ 1.        ,  3.931322  , -2.1099044 ],\n",
       "       [ 1.        ,  4.378687  , -2.3804743 ],\n",
       "       [ 1.        ,  4.8016565 , -3.3803344 ],\n",
       "       [ 1.        ,  4.166105  , -2.8138844 ],\n",
       "       [ 1.        ,  2.4670141 , -1.6108444 ],\n",
       "       [ 1.        ,  3.4826743 , -1.5533872 ],\n",
       "       [ 1.        ,  3.3652482 , -1.8164936 ],\n",
       "       [ 1.        ,  2.8772788 , -1.8511689 ],\n",
       "       [ 1.        ,  3.1090444 , -1.6384946 ],\n",
       "       [ 1.        ,  2.2183701 ,  0.07427956],\n",
       "       [ 1.        ,  1.9949873 ,  0.16268659],\n",
       "       [ 1.        ,  2.9500308 ,  0.01687302],\n",
       "       [ 1.        ,  2.0216009 ,  0.17227387],\n",
       "       [ 1.        ,  2.0486921 , -0.63581041],\n",
       "       [ 1.        ,  0.87548563, -0.54586168],\n",
       "       [ 1.        ,  0.57079941, -0.03327866],\n",
       "       [ 1.        ,  1.4266468 , -0.75288337],\n",
       "       [ 1.        ,  0.72265633, -0.8669193 ],\n",
       "       [ 1.        ,  0.95346198, -1.4896956 ],\n",
       "       [ 1.        ,  4.8333333 ,  0.07017544],\n",
       "       [ 1.        ,  4.3070175 ,  1.4152047 ],\n",
       "       [ 1.        ,  6.0321637 ,  0.4502924 ],\n",
       "       [ 1.        ,  5.4181287 , -2.7076023 ],\n",
       "       [ 1.        ,  3.4590643 , -2.8245614 ],\n",
       "       [ 1.        ,  2.7280702 , -0.92397661],\n",
       "       [ 1.        ,  1.002924  ,  0.77192982],\n",
       "       [ 1.        ,  3.6637427 , -0.77777778],\n",
       "       [ 1.        ,  4.3070175 , -1.0409357 ],\n",
       "       [ 1.        ,  3.6929825 , -0.10526316],\n",
       "       [ 1.        ,  5.7397661 , -1.625731  ],\n",
       "       [ 1.        ,  4.9795322 , -1.5087719 ],\n",
       "       [ 1.        ,  6.5       , -2.9122807 ],\n",
       "       [ 1.        ,  5.2426901 ,  0.91812865],\n",
       "       [ 1.        ,  1.6754386 ,  0.56725146],\n",
       "       [ 1.        ,  5.1708997 ,  1.2103667 ],\n",
       "       [ 1.        ,  4.8795188 ,  1.6081848 ],\n",
       "       [ 1.        ,  4.664987  ,  1.0695532 ],\n",
       "       [ 1.        ,  4.4934321 ,  1.2351592 ],\n",
       "       [ 1.        ,  4.1512967 ,  0.8672126 ],\n",
       "       [ 1.        ,  3.717708  ,  1.15172   ],\n",
       "       [ 1.        ,  3.6224477 ,  1.3106769 ],\n",
       "       [ 1.        ,  3.0606943 ,  1.4857163 ],\n",
       "       [ 1.        ,  7.0718465 , -0.34961651],\n",
       "       [ 1.        ,  6.0391832 , -0.24756832],\n",
       "       [ 1.        ,  6.674748  , -0.12484766],\n",
       "       [ 1.        ,  6.8461291 ,  0.25977167],\n",
       "       [ 1.        ,  6.4270724 , -0.14713863],\n",
       "       [ 1.        ,  6.8456065 ,  1.4754967 ],\n",
       "       [ 1.        ,  7.7054006 ,  1.6045555 ],\n",
       "       [ 1.        ,  6.2870658 ,  2.4156427 ],\n",
       "       [ 1.        ,  6.9810956 ,  1.2599865 ],\n",
       "       [ 1.        ,  7.0990172 ,  2.2155151 ],\n",
       "       [ 1.        ,  5.5275479 ,  0.29968421],\n",
       "       [ 1.        ,  5.8303489 , -0.21974408],\n",
       "       [ 1.        ,  6.3594527 ,  0.23944217],\n",
       "       [ 1.        ,  6.1004524 , -0.04095741],\n",
       "       [ 1.        ,  5.6237412 ,  0.37135914],\n",
       "       [ 1.        ,  5.8836969 ,  2.7768186 ],\n",
       "       [ 1.        ,  5.5781611 ,  3.0682889 ],\n",
       "       [ 1.        ,  7.0050662 , -0.25781727],\n",
       "       [ 1.        ,  4.4538114 ,  0.83941831],\n",
       "       [ 1.        ,  5.6495924 ,  1.3053929 ],\n",
       "       [ 1.        ,  4.6337489 ,  1.9467546 ],\n",
       "       [ 1.        ,  3.6986847 ,  2.2594084 ],\n",
       "       [ 1.        ,  4.1193005 ,  2.547451  ],\n",
       "       [ 1.        ,  4.7665558 ,  2.7531209 ],\n",
       "       [ 1.        ,  3.0812098 ,  2.7985255 ],\n",
       "       [ 1.        ,  4.0730994 , -3.0292398 ],\n",
       "       [ 1.        ,  3.4883041 , -1.8888889 ],\n",
       "       [ 1.        ,  0.76900585,  1.2105263 ],\n",
       "       [ 1.        ,  1.5       ,  3.8128655 ],\n",
       "       [ 1.        ,  5.7982456 , -2.0935673 ],\n",
       "       [ 1.        ,  6.8114529 , -0.8345673 ],\n",
       "       [ 1.        ,  7.1106096 , -1.0201158 ],\n",
       "       [ 1.        ,  7.494152  , -1.7426901 ],\n",
       "       [ 1.        ,  3.1374269 ,  0.42105263],\n",
       "       [ 1.        ,  1.6754386 ,  0.50877193],\n",
       "       [ 1.        ,  2.494152  , -0.86549708],\n",
       "       [ 1.        ,  4.7748538 ,  0.09941521],\n",
       "       [ 1.        ,  5.8274854 , -0.69005848],\n",
       "       [ 1.        ,  2.2894737 ,  1.9707602 ],\n",
       "       [ 1.        ,  2.494152  ,  1.4152047 ],\n",
       "       [ 1.        ,  2.0847953 ,  1.3567251 ]])"
      ]
     },
     "execution_count": 68,
     "metadata": {},
     "output_type": "execute_result"
    }
   ],
   "source": [
    "X"
   ]
  },
  {
   "cell_type": "code",
   "execution_count": 47,
   "metadata": {
    "collapsed": false
   },
   "outputs": [
    {
     "data": {
      "text/plain": [
       "['red',\n",
       " 'red',\n",
       " 'red',\n",
       " 'red',\n",
       " 'red',\n",
       " 'red',\n",
       " 'red',\n",
       " 'red',\n",
       " 'red',\n",
       " 'red',\n",
       " 'red',\n",
       " 'red',\n",
       " 'red',\n",
       " 'red',\n",
       " 'red',\n",
       " 'red',\n",
       " 'red',\n",
       " 'red',\n",
       " 'red',\n",
       " 'red',\n",
       " 'red',\n",
       " 'red',\n",
       " 'red',\n",
       " 'red',\n",
       " 'red',\n",
       " 'red',\n",
       " 'red',\n",
       " 'red',\n",
       " 'red',\n",
       " 'red',\n",
       " 'red',\n",
       " 'red',\n",
       " 'red',\n",
       " 'red',\n",
       " 'red',\n",
       " 'red',\n",
       " 'red',\n",
       " 'red',\n",
       " 'red',\n",
       " 'red',\n",
       " 'red',\n",
       " 'red',\n",
       " 'red',\n",
       " 'red',\n",
       " 'red',\n",
       " 'red',\n",
       " 'red',\n",
       " 'red',\n",
       " 'red',\n",
       " 'red',\n",
       " 'blue',\n",
       " 'blue',\n",
       " 'blue',\n",
       " 'blue',\n",
       " 'blue',\n",
       " 'blue',\n",
       " 'blue',\n",
       " 'blue',\n",
       " 'blue',\n",
       " 'blue',\n",
       " 'blue',\n",
       " 'blue',\n",
       " 'blue',\n",
       " 'blue',\n",
       " 'blue',\n",
       " 'blue',\n",
       " 'blue',\n",
       " 'blue',\n",
       " 'blue',\n",
       " 'blue',\n",
       " 'blue',\n",
       " 'blue',\n",
       " 'blue',\n",
       " 'blue',\n",
       " 'blue',\n",
       " 'blue',\n",
       " 'blue',\n",
       " 'blue',\n",
       " 'blue',\n",
       " 'blue',\n",
       " 'blue',\n",
       " 'blue',\n",
       " 'blue',\n",
       " 'blue',\n",
       " 'blue',\n",
       " 'blue',\n",
       " 'blue',\n",
       " 'blue',\n",
       " 'blue',\n",
       " 'blue',\n",
       " 'blue',\n",
       " 'blue',\n",
       " 'blue',\n",
       " 'blue',\n",
       " 'blue',\n",
       " 'blue',\n",
       " 'blue',\n",
       " 'blue',\n",
       " 'blue']"
      ]
     },
     "execution_count": 47,
     "metadata": {},
     "output_type": "execute_result"
    }
   ],
   "source": [
    "colors"
   ]
  }
 ],
 "metadata": {
  "kernelspec": {
   "display_name": "Python_AIND",
   "language": "python",
   "name": "aind"
  },
  "language_info": {
   "codemirror_mode": {
    "name": "ipython",
    "version": 3
   },
   "file_extension": ".py",
   "mimetype": "text/x-python",
   "name": "python",
   "nbconvert_exporter": "python",
   "pygments_lexer": "ipython3",
   "version": "3.6.0"
  }
 },
 "nbformat": 4,
 "nbformat_minor": 2
}
