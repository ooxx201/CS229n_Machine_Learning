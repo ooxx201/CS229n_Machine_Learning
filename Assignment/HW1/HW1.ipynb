{
 "cells": [
  {
   "cell_type": "markdown",
   "metadata": {
    "collapsed": true,
    "deletable": true,
    "editable": true
   },
   "source": [
    "# 1. Logistic regression\n",
    "## (a)"
   ]
  },
  {
   "cell_type": "markdown",
   "metadata": {
    "deletable": true,
    "editable": true
   },
   "source": [
    "1)\n",
    "\\begin{align*}\n",
    "J(\\theta) &= \\frac{1}{m} \\sum_{k=1}^{m} \\mathrm{log}(1 + e ^{-y^{(k)} \\theta^T x^{(k)})})\\\\\n",
    "          &= - \\frac{1}{m} \\sum_{k=1}^{m} \\mathrm{log}(g(z^{(k)})) \\\\\n",
    "\\end{align*}\n",
    "2)\n",
    "We have $\\frac{\\partial g}{\\partial z}= g(1 - g)$, thus\n",
    "\\begin{align*}\n",
    "\\frac{\\partial J(\\theta)}{\\partial \\theta_i} &= -\\frac{1}{m} \\sum_{k=1}^{m} \\frac{1}{g(z)} \\frac{\\partial g(z)}{\\partial z} \\frac{\\partial z}{\\partial \\theta_i}\\\\\n",
    "          &= -\\frac{1}{m} \\sum_{k=1}^{m} \\frac{1}{g(z)} g(z)(1-g(z)) y^{(k)} x_i^{(k)} \\\\\n",
    "          &= -\\frac{1}{m} \\sum_{k=1}^{m} (1-g(z)) y^{(k)} x_i^{(k)} \\\\\n",
    "\\end{align*}\n",
    "3) Then\n",
    "\\begin{align*}\n",
    "H_{ij} = \\frac{\\partial^2 J(\\theta)}{\\partial\\theta_i \\partial\\theta_j} &= -\\frac{1}{m} \\sum_{k=1}^{m}  \\frac{\\partial (1 - g(z))}{\\partial z} \\frac{\\partial z}{\\partial \\theta_j} y^{(k)} x_i^{(k)}\\\\\n",
    "          &= \\frac{1}{m} \\sum_{k=1}^{m} g(z)(1-g(z)) y^{(k)} x_i^{(k)} y^{(k)} x_j^{(k)} \\\\\n",
    "          &= \\frac{1}{m} \\sum_{k=1}^{m} g(z)(1-g(z)) x_i^{(k)} x_j^{(k)} \\\\\n",
    "\\end{align*}\n",
    "4) Finally\n",
    "\\begin{align*}\n",
    "z^THz &= \\sum_{i=1}^{n} \\sum_{j=1}^{n} z_i H_{ij} z_j \\\\\n",
    "      &= \\sum_{i=1}^{n} \\sum_{j=1}^{n} z_i (\\frac{1}{m} \\sum_{k=1}^{m} g(z)(1-g(z)) x_i^{(k)} x_j^{(k)}) z_j \\\\\n",
    "      & = \\frac{1}{m} \\sum_{k=1}^{m} g(z)(1-g(z)) \\sum_{i=1}^{n} \\sum_{j=1}^{n} z_i x_i^{(k)} x_j^{(k)} z_j \n",
    "\\end{align*}\n",
    "Since $ 0<g(z)<1 $ and $ \\sum_{i=1}^{n} \\sum_{j=1}^{n} z_i x_i^{(k)} x_j^{(k)} z_j =  ((x^{(k)})^{T}z)^2 $,  \n",
    "$z^T H z \\ge 0$, so $H$ is PSD, i.e. $H \\succeq 0$.\n",
    "\n",
    "PS: $\\sum_{i=1}^{n} \\sum_{j=1}^{n} z_i x_i x_j z_j$\n",
    "\\begin{align*}\n",
    "\\sum_{i=1}^{n} \\sum_{j=1}^{n} z_i x_i x_j z_j &= \\sum_{i=1}^{n} \\sum_{j=1}^{n} z_i x_j z_j x_i \\\\\n",
    "                                              &= \\sum_{i=1}^{n} (zx^T  zx^T)_{ii} \\\\\n",
    "                                              &= tr(z x^T z x^T) \\\\\n",
    "                                              &= tr(x^T z x^T z) \\\\\n",
    "                                              &= tr((x^Tz)^2) \\\\\n",
    "                                              &= (x^Tz)^2\n",
    "\\end{align*}"
   ]
  },
  {
   "cell_type": "markdown",
   "metadata": {
    "deletable": true,
    "editable": true
   },
   "source": [
    "## (b)"
   ]
  },
  {
   "cell_type": "code",
   "execution_count": 1,
   "metadata": {
    "collapsed": false,
    "deletable": true,
    "editable": true
   },
   "outputs": [],
   "source": [
    "import numpy as np\n",
    "import pandas as pd\n",
    "import matplotlib.pyplot as plt\n",
    "\n",
    "%matplotlib inline\n",
    "\n",
    "def sigmoid(z):\n",
    "    return 1 / (1 + np.exp(-z))"
   ]
  },
  {
   "cell_type": "code",
   "execution_count": 2,
   "metadata": {
    "collapsed": false,
    "deletable": true,
    "editable": true
   },
   "outputs": [
    {
     "data": {
      "image/png": "[encoded data removed]",
      "text/plain": [
       "<matplotlib.figure.Figure at 0x274af046f60>"
      ]
     },
     "metadata": {},
     "output_type": "display_data"
    }
   ],
   "source": [
    "df_X = pd.read_csv('http://cs229.stanford.edu/ps/ps1/logistic_x.txt', sep='\\ +', header=None, engine='python')\n",
    "df_y = pd.read_csv('http://cs229.stanford.edu/ps/ps1/logistic_y.txt', sep='\\ +', header=None, engine='python')\n",
    "Xs = df_X.values\n",
    "y = df_y.values\n",
    "colors = ['blue' if i == 1 else 'red' for i in y ]\n",
    "plt.scatter(Xs[:,0], Xs[:,1], c=colors)\n",
    "plt.show()"
   ]
  },
  {
   "cell_type": "markdown",
   "metadata": {
    "collapsed": false,
    "deletable": true,
    "editable": true
   },
   "source": [
    "Update rules:   \n",
    "\\begin{align*}\n",
    "\\theta :&= \\theta - H^{-1} \\nabla_{\\theta} J(\\theta) \\\\\n",
    "\\frac{\\partial J(\\theta)}{\\partial \\theta_i} &=  -\\frac{1}{m} \\sum_{k=1}^{m} (1-g(z)) y^{(k)} x_i^{(k)} \\\\\n",
    "H_{ij} &= \\frac{1}{m} \\sum_{k=1}^{m} g(z^{(k)})(1-g(z^{(k)})) x_i^{(k)} x_j^{(k)} \\\\\n",
    "\\end{align*}\n",
    "\n",
    "            "
   ]
  },
  {
   "cell_type": "code",
   "execution_count": 3,
   "metadata": {
    "collapsed": false,
    "deletable": true,
    "editable": true
   },
   "outputs": [
    {
     "name": "stdout",
     "output_type": "stream",
     "text": [
      "converged after 7 iterations\n"
     ]
    }
   ],
   "source": [
    "#Add the intercept term\n",
    "X = np.hstack([np.ones((Xs.shape[0], 1)), Xs])\n",
    "\n",
    "m = X.shape[0]\n",
    "n = X.shape[1]\n",
    "\n",
    "all_thetas = [] \n",
    "tol = 1e9\n",
    "n_iters = 0\n",
    "theta = np.zeros((n, 1))\n",
    "\n",
    "while tol > 1e-6:\n",
    "    z = np.dot(X, theta) * y\n",
    "    gz = sigmoid(z)\n",
    "    \n",
    "    #nabla\n",
    "    nabla = np.mean((gz - 1) * y * X, axis = 0).reshape(-1,1)\n",
    "    \n",
    "    #Hessian\n",
    "    hessian = np.zeros((n, n))\n",
    "    for i in range(n):\n",
    "        for j in range(i, n):\n",
    "            hessian[i, j] = np.mean(gz * (1 - gz) * X[:,i].reshape(-1,1) * X[:,j].reshape(-1,1))\n",
    "            if i != j :\n",
    "                hessian[j, i] = hessian[i, j]\n",
    "                \n",
    "    #Delta\n",
    "    delta = np.matmul(np.linalg.inv(hessian), nabla)\n",
    "    theta -= delta\n",
    "    all_thetas.append(theta.copy())\n",
    "    \n",
    "    n_iters += 1\n",
    "    tol = np.sum(np.abs(delta))\n",
    "    \n",
    "print('converged after {0} iterations'.format(n_iters))"
   ]
  },
  {
   "cell_type": "markdown",
   "metadata": {
    "deletable": true,
    "editable": true
   },
   "source": [
    "## (c)"
   ]
  },
  {
   "cell_type": "code",
   "execution_count": 7,
   "metadata": {
    "collapsed": false,
    "deletable": true,
    "editable": true
   },
   "outputs": [
    {
     "data": {
      "image/png": "[encoded data removed]",
      "text/plain": [
       "<matplotlib.figure.Figure at 0x274b134fb38>"
      ]
     },
     "metadata": {},
     "output_type": "display_data"
    }
   ],
   "source": [
    "plt.scatter(X[:,1], X[:,2], c=colors)\n",
    "_xs = np.array([np.min(X[:,1]), np.max(X[:,1])])\n",
    "for k, theta in enumerate(all_thetas):\n",
    "    _ys = (theta[0] + theta[1] * _xs) / (- theta[2])\n",
    "    plt.plot(_xs, _ys, label='iter {0}'.format(k + 1), lw=0.5)\n",
    "plt.legend(bbox_to_anchor=(1.04,1), loc=\"upper left\")\n",
    "plt.show()"
   ]
  },
  {
   "cell_type": "markdown",
   "metadata": {
    "collapsed": true,
    "deletable": true,
    "editable": true
   },
   "source": [
    "# 2. Poisson regression and the exponential family"
   ]
  },
  {
   "cell_type": "markdown",
   "metadata": {
    "deletable": true,
    "editable": true
   },
   "source": [
    "## (a)\n",
    "\\begin{align*}\n",
    "p(y; \\lambda) &= \\frac{e^{-\\lambda}\\lambda^y}{y!} \\\\\n",
    "          &= \\frac{1}{y!} e^{log^{\\lambda}y - \\lambda}\\\\\n",
    "\\end{align*}\n",
    "\n",
    "Thus we have:\n",
    "\\begin{align*}\n",
    "p(y; \\eta) &= (\\frac{1}{y!}) e^{\\eta y - (e^\\eta)}\\\\\n",
    "           &= b(y)exp(\\eta T(y) - a(\\eta))\n",
    "\\end{align*}\n",
    "\n",
    "Where:  \n",
    "\\begin{align*}\n",
    "\\eta &= log^\\lambda \\\\\n",
    "T(y) &= y \\\\\n",
    "a(\\eta) &= e^\\eta \\\\\n",
    "b(y) &= \\frac{1}{y!}\n",
    "\\end{align*}"
   ]
  },
  {
   "cell_type": "markdown",
   "metadata": {
    "collapsed": true,
    "deletable": true,
    "editable": true
   },
   "source": [
    "## (b)\n",
    "Canonical response function:\n",
    "\\begin{align*}\n",
    "g(\\eta) &= E[T(y);\\eta] \\\\\n",
    "        &= \\lambda \\\\\n",
    "        &= e^\\eta \\\\\n",
    "        &= e^{\\theta^Tx} \\\\\n",
    "\\end{align*}"
   ]
  },
  {
   "cell_type": "markdown",
   "metadata": {
    "deletable": true,
    "editable": true
   },
   "source": [
    "## (c)\n",
    "Log-likelihood:\n",
    "\\begin{align*}\n",
    "l(\\theta) &= log(p(y; \\lambda)) \\\\\n",
    "          &= log\\frac{1}{y!} + ylog^\\lambda - \\lambda \\\\\n",
    "          &= log\\frac{1}{y!} + y\\eta - e^\\eta \\\\\n",
    "          &= log\\frac{1}{y!} + y\\theta^Tx - e^{\\theta^Tx}\n",
    "\\end{align*}\n",
    "\n",
    "Its derivative:\n",
    "\\begin{align*}\n",
    "\\frac{\\partial l(\\theta)}{\\partial \\theta_j} &= y x_j - e^{\\theta^T x} x_j \\\\\n",
    "                                             &= (y - e^{\\theta^T x}) x_j \\\\\n",
    "                                             &= (y - e^{\\eta}) x_j \\\\\n",
    "                                             &= (y - \\lambda) x_j\n",
    "\\end{align*}\n",
    "\n",
    "Stochastic gradient descent rule:\n",
    "\\begin{align*}\n",
    "\\theta &:= \\theta + \\alpha  \\frac{1}{m}\\sum_{i=1}^{m}(y^{(i)} - e^{\\theta^T x^{(i)}})x^{(i)}\n",
    "\\end{align*}"
   ]
  },
  {
   "cell_type": "markdown",
   "metadata": {
    "deletable": true,
    "editable": true
   },
   "source": [
    "## (d)\n",
    "### d.1 Log-likelihood\n",
    "Since T(y) = y, thus:\n",
    "\\begin{align*}\n",
    "p(y;\\eta) &= b(y)exp(\\eta y-a(\\eta)) \\\\\n",
    "\\end{align*}\n",
    "\n",
    "\\begin{align*}\n",
    "l(\\theta) &= log(p(y; \\eta)) \\\\\n",
    "          &= log^{b(y)} + \\eta y-a(\\eta) \\\\\n",
    "\\end{align*}\n",
    "\n",
    "### d.2 Derivative \n",
    "\\begin{align*}\n",
    "\\frac{\\partial l(\\theta)}{\\partial \\theta_j} &= 0 + y \\frac{\\partial \\eta}{\\partial \\theta_j} - \\frac{\\partial a(\\eta)}{\\partial \\eta} \\frac{\\partial \\eta}{\\partial \\theta_j} \\\\\n",
    "                                             &= (y - \\frac{\\partial a(\\eta)}{\\partial \\eta}) x_j \\\\\n",
    "\\end{align*}\n",
    "\n",
    "### d.3 Canonical response function\n",
    "$$ \\int_{y}p(y;\\eta) dy = 1 $$\n",
    "Taking derivative on both side w.s.t $\\eta$\n",
    "$$ \\frac{d}{d \\eta}\\int_{y}p(y;\\eta) dy = 0 $$\n",
    "$$ \\int_{y} \\frac{d}{d \\eta} p(y;\\eta) dy = 0 $$\n",
    "Thus we have:\n",
    "\\begin{align*}\n",
    "\\int_{y} \\frac{d}{d \\eta} p(y;\\eta) dy &= \\int_{y} b(y)exp(\\eta y-a(\\eta))(y - \\frac{\\partial a(\\eta)}{\\partial \\eta})dy \\\\\n",
    "                                       &= \\int_{y} p(y;\\eta)(y - \\frac{\\partial a(\\eta)}{\\partial \\eta})dy \\\\\n",
    "                                       &= \\int_{y} p(y;\\eta)ydy - \\frac{\\partial a(\\eta)}{\\partial \\eta}\\int_{y}p(y;\\eta)dy \\\\\n",
    "                                       &= h(x) - \\frac{\\partial a(\\eta)}{\\partial \\eta}1 \\\\\n",
    "                                       &= h(x) - \\frac{\\partial a(\\eta)}{\\partial \\eta} \\\\\n",
    "                                       &= 0 \\\\\n",
    "\\end{align*}\n",
    "\n",
    "Therefore: $$ h(x) = \\frac{\\partial a(\\eta)}{\\partial \\eta} $$\n",
    "And: $$ \\frac{\\partial l(\\theta)}{\\partial \\theta_j} = (y - h(x))x_j $$\n",
    "\n",
    "### d.4 Stochastic gradient ascent rule\n",
    "\\begin{align*}\n",
    "\\theta_j &:= \\theta_j + \\alpha(y - h(x))x_j \\\\\n",
    "         &:= \\theta_j - \\alpha(h(x) - y)x_j \\\\\n",
    "\\end{align*}"
   ]
  },
  {
   "cell_type": "markdown",
   "metadata": {
    "deletable": true,
    "editable": true
   },
   "source": [
    "# 3.  Gaussian discriminant analysis "
   ]
  },
  {
   "cell_type": "markdown",
   "metadata": {
    "deletable": true,
    "editable": true
   },
   "source": [
    "## (a)\n",
    "Given:\n",
    "\\begin{align*} \n",
    "p(y) &= \\begin{cases}\n",
    "  \\phi          & \\text{if} \\; y = 1 \\\\\n",
    "  1 - \\phi     & \\text{if} \\; y = -1\n",
    "\\end{cases} \\\\\n",
    "p(x|y=1) &= \\frac{1}{(2\\pi)^{\\frac{n}{2}} \\left|\\Sigma\\right|^{\\frac{1}{2}}} \\mathrm{exp}\\bigg(-\\frac{1}{2}(x - \\mu_{1})^T \\Sigma^{-1} (x - \\mu_{1}) \\bigg) \\\\\n",
    "p(x|y=-1) &= \\frac{1}{(2\\pi)^{\\frac{n}{2}} \\left|\\Sigma\\right|^{\\frac{1}{2}}} \\mathrm{exp}\\bigg(-\\frac{1}{2}(x - \\mu_{-1})^T \\Sigma^{-1} (x - \\mu_{-1}) \\bigg) \\\\\n",
    "\\end{align*}"
   ]
  },
  {
   "cell_type": "markdown",
   "metadata": {
    "deletable": true,
    "editable": true
   },
   "source": [
    "Suppose:\n",
    "\\begin{align*}\n",
    "p(x|y=1) &= Ce^A \\\\\n",
    "p(x|y=-1) &= Ce^B \\\\\n",
    "\\end{align*}\n",
    "Where:\n",
    "\\begin{align*}\n",
    "A &= -\\frac{1}{2}(x - \\mu_{1})^T \\Sigma^{-1} (x - \\mu_{1}) \\\\\n",
    "B &= -\\frac{1}{2}(x - \\mu_{-1})^T \\Sigma^{-1} (x - \\mu_{-1}) \\\\\n",
    "C &= \\frac{1}{(2\\pi)^{\\frac{n}{2}} \\left|\\Sigma\\right|^{\\frac{1}{2}}}\n",
    "\\end{align*}"
   ]
  },
  {
   "cell_type": "markdown",
   "metadata": {
    "deletable": true,
    "editable": true
   },
   "source": [
    "\\begin{align*}\n",
    "p(y|x) &= \\frac{p(x|y)p(y)}{p(x)} \\\\\n",
    "       &= \\frac{p(x|y)p(y)}{p(x|y=1)p(y=1) + p(x|y=-1)p(y=-1)} \\\\\n",
    "\\end{align*}\n",
    "\n",
    "When y = 1:\n",
    "\\begin{align*}\n",
    "p(y|x) &= \\frac{Ce^A\\phi}{Ce^A\\phi + Ce^B(1-\\phi)} \\\\\n",
    "       &= \\frac{1}{1 + \\frac{1-\\phi}{\\phi}e^{B-A}} \\\\\n",
    "       &= \\frac{1}{1 + e^{(B-A+log^{1-\\phi}-log^\\phi)}} \\\\\n",
    "       &= \\frac{1}{1 + e^{-(A-B+log^\\phi-log^{1-\\phi})}} \\\\\n",
    "       &= \\frac{1}{1 + e^{-y(A-B+log^\\phi-log^{1-\\phi})}} \\\\\n",
    "\\end{align*} \n",
    "\n",
    "When y = -1:\n",
    "\\begin{align*}\n",
    "p(y|x) &= \\frac{Ce^B(1-\\phi)}{Ce^A\\phi + Ce^B(1-\\phi)} \\\\\n",
    "       &= \\frac{1}{1 + \\frac{\\phi}{1-\\phi}e^{A-B}} \\\\\n",
    "       &= \\frac{1}{1 + e^{(A-B+log^\\phi-log^{1-\\phi})}} \\\\\n",
    "       &= \\frac{1}{1 + e^{-y(A-B+log^\\phi-log^{1-\\phi})}} \\\\\n",
    "\\end{align*} \n",
    "Therefore in both cases:\n",
    "\\begin{align*}\n",
    "p(y|x) &= \\frac{1}{1 + e^{-y(A-B+log^\\phi-log^{1-\\phi})}} \\\\\n",
    "       &= \\frac{1}{1 + e^{-y(\\theta^Tx+\\theta_0)}}\n",
    "\\end{align*} \n",
    "Where:\n",
    "\\begin{align*}\n",
    "\\theta^Tx+\\theta_0 &=  A-B+log^\\phi-log^{1-\\phi} \\\\\n",
    "                   &= \\frac{1}{2}(x - \\mu_{-1})^T \\Sigma^{-1} (x - \\mu_{-1}) -\\frac{1}{2}(x - \\mu_{1})^T \\Sigma^{-1} (x - \\mu_{1})  + log^\\phi - log^{1 - \\phi} \\\\\n",
    "\\end{align*} "
   ]
  },
  {
   "cell_type": "markdown",
   "metadata": {
    "deletable": true,
    "editable": true
   },
   "source": [
    "## (b)\n",
    "Since x is of one dimension:\n",
    "\\begin{align*} \n",
    "p(y) &= \\begin{cases}\n",
    "  \\phi          & \\text{if} \\; y = 1 \\\\\n",
    "  1 - \\phi     & \\text{if} \\; y = -1\n",
    "\\end{cases} \\\\\n",
    "p(x|y=1) &= \\frac{1}{(2\\pi\\sigma^2)^{\\frac{1}{2}}} \\mathrm{exp}\\bigg(-\\frac{(x - \\mu_{1})^2}{2\\sigma^2} \\bigg) \\\\\n",
    "p(x|y=-1) &= \\frac{1}{(2\\pi\\sigma^2)^{\\frac{1}{2}}} \\mathrm{exp}\\bigg(-\\frac{(x - \\mu_{-1})^2}{2\\sigma^2}  \\bigg) \\\\\n",
    "\\end{align*}"
   ]
  },
  {
   "cell_type": "markdown",
   "metadata": {},
   "source": [
    "Log-likelihood:\n",
    "\\begin{align*} \n",
    "l(\\phi, \\mu_{1}, \\mu_{-1}, \\sigma^2)\n",
    "    &= \\mathrm{log} \\prod_{i=1}^{m} p(x^{(i)}, y^{(i)}; \\phi, \\mu_{-1}, \\mu_1, \\sigma^2) \\\\\n",
    "    &= \\mathrm{log} \\prod_{i=1}^{m} p(x^{(i)}|y^{(i)}; \\phi, \\mu_{-1}, \\mu_1, \\sigma^2) p(y^{(i)}; \\phi) \\\\\n",
    "    &= \\mathrm{log} \\prod_{i=1}^{m} 1\\{y^{(i)} = 1\\}  \\frac{1}{(2\\pi \\sigma^2)^{\\frac{1}{2}}} \\mathrm{exp}\\bigg(-\\frac{(x^{(i)} - \\mu_1)^2}{2\\sigma^{2}}\\bigg ) \\phi + 1\\{y^{(i)} = -1\\} \\frac{1}{(2\\pi \\sigma^2)^{\\frac{1}{2}}} \\mathrm{exp}\\bigg(-\\frac{(x^{(i)} - \\mu_{-1})^2}{2\\sigma^{2}}\\bigg ) (1 - \\phi) \\\\\n",
    "    &=  -\\frac{1}{2} \\sum_{i=1}^m \\bigg ((1\\{y^{(i)} = 1\\} + 1\\{y^{(i)} = -1\\}) log^{2\\pi \\sigma^2}\\bigg ) - \\sum_{i=1}^m 1\\{y^{(i)} = 1\\} \\frac{(x^{(i)} - \\mu_1)^2}{2\\sigma^{2}} - \\sum_{i=1}^m 1\\{y^{(i)} = -1\\} \\frac{(x^{(i)} - \\mu_{-1})^2}{2\\sigma^{2}} + \\sum_{i=1}^m 1\\{y^{(i)} = 1\\} \\phi + \\sum_{i=1}^m 1\\{y^{(i)} = -1\\} (1 - \\phi) \\\\\n",
    "    &= -\\frac{m}{2} log^{2\\pi \\sigma^2} - \\sum_{i=1}^m 1\\{y^{(i)} = 1\\} \\frac{(x^{(i)} - \\mu_1)^2}{2\\sigma^{2}} - \\sum_{i=1}^m 1\\{y^{(i)} = -1\\} \\frac{(x^{(i)} - \\mu_{-1})^2}{2\\sigma^{2}} + (\\sum_{i=1}^m 1\\{y^{(i)} = 1\\})  \\mathrm{log}^\\phi + (\\sum_{i=1}^m 1\\{y^{(i)} = -1\\}) \\mathrm{log}^{1 - \\phi} \\\\\n",
    "\\end{align*}"
   ]
  },
  {
   "cell_type": "markdown",
   "metadata": {},
   "source": [
    "ML estimate of $\\phi$:\n",
    "\\begin{align*}\n",
    "\\frac{\\partial l}{\\partial \\phi} &= \\frac{\\sum_{i=1}^m 1\\{y^{(i)} = 1\\}}{\\phi} - \\frac{\\sum_{i=1}^m 1\\{y^{(i)} = -1\\}} {1 - \\phi} \\\\\n",
    "&= 0 \\\\\n",
    "\\end{align*}\n",
    "Thus:\n",
    "\\begin{align*}\n",
    "\\sum_{i=1}^m 1\\{y^{(i)} = 1\\} - (\\sum_{i=1}^m 1\\{y^{(i)} = 1\\} + \\sum_{i=1}^m 1\\{y^{(i)} = -1\\}) \\phi &= 0 \\\\\n",
    "\\sum_{i=1}^m 1\\{y^{(i)} = 1\\} - m\\phi &= 0 \\\\\n",
    "\\phi = \\frac{1}{m}\\sum_{i=1}^m 1\\{y^{(i)} = 1\\}\n",
    "\\end{align*}"
   ]
  },
  {
   "cell_type": "markdown",
   "metadata": {},
   "source": [
    "ML estimate of $\\mu_1$:\n",
    "\\begin{align*}\n",
    "\\frac{\\partial l}{\\partial \\mu_1} &= \\frac{1}{\\sigma ^2} \\bigg ( \\sum_{i=1}^m 1\\{y^{(i)} = 1\\} x^{(i)} -  \\sum_{i=1}^m 1\\{y^{(i)} = 1\\} \\mu_1 \\bigg)  \\\\\n",
    " &= 0 \\\\\n",
    "\\end{align*}\n",
    "Thus:\n",
    "\\begin{align*}\n",
    "\\sum_{i=1}^m 1\\{y^{(i)} = 1\\} x^{(i)} -  \\sum_{i=1}^m 1\\{y^{(i)} = 1\\} \\mu_1    &= 0 \\\\\n",
    "\\mu_1 = \\frac{\\sum_{i=1}^m 1\\{y^{(i)} = 1\\} x^{(i)}}{\\sum_{i=1}^m 1\\{y^{(i)} = 1\\}}\n",
    "\\end{align*}\n",
    "By the same way we have:\n",
    "$$ \\mu_{-1} = \\frac{\\sum_{i=1}^{m} 1\\{y^{(i)} = -1\\}  x^{(i)}}{\\sum_{i=1}^{m} 1\\{y^{(i)} = -1\\}}$$"
   ]
  },
  {
   "cell_type": "markdown",
   "metadata": {},
   "source": [
    "ML estimate of  $\\Sigma$ :\n",
    "\\begin{align*}\n",
    "\\frac{\\partial l}{\\partial \\Sigma} \n",
    "  &= -\\frac{m}{2} \\frac{1}{2\\pi\\Sigma} 2\\pi - \\sum_{i=1}^m 1\\{y^{(i)} = 1\\} \\frac{(x^{(i)} - \\mu_1)^2}{2} (-(\\Sigma^{-2})) - \\sum_{i=1}^m 1\\{y^{(i)} = -1\\} \\frac{(x^{(i)} - \\mu_{-1})^2}{2}(−(\\Sigma^{-2})) \\\\\n",
    "  &= -\\frac{m}{2\\Sigma} + \\sum_{i=1}^m 1\\{y^{(i)} = 1\\} \\frac{(x^{(i)} - \\mu_1)^2}{2\\Sigma^2} + \\sum_{i=1}^m 1\\{y^{(i)} = -1\\} \\frac{(x^{(i)} - \\mu_{-1})^2}{2\\Sigma^2} \\\\\n",
    "  &= 0\n",
    "\\end{align*}\n",
    "Thus:\n",
    "\\begin{align*}\n",
    "\\Sigma &= \\frac{1}{m} \\bigg( \\sum_{i=1}^m 1\\{y^{(i)} = 1\\} (x^{(i)} - \\mu_1)^2 + \\sum_{i=1}^m 1\\{y^{(i)} = -1\\} (x^{(i)} - \\mu_{-1})^2 \\bigg) \\\\\n",
    "       &= \\frac{1}{m} \\sum_{i=1}^m (x^{(i)} - \\mu_{y^{(i)}})^2 \\\\\n",
    "       &= \\frac{1}{m} \\sum_{i=1}^m (x^{(i)} - \\mu_{y^{(i)}})(x^{(i)} - \\mu_{y^{(i)}})^T \\\\\n",
    "\\end{align*}"
   ]
  },
  {
   "cell_type": "markdown",
   "metadata": {},
   "source": [
    "## (c)\n"
   ]
  },
  {
   "cell_type": "markdown",
   "metadata": {},
   "source": [
    "# 4. Linear invariance of optimization algorithms"
   ]
  },
  {
   "cell_type": "markdown",
   "metadata": {},
   "source": [
    "## (a)\n"
   ]
  }
 ],
 "metadata": {
  "kernelspec": {
   "display_name": "AIND",
   "language": "python",
   "name": "aind"
  },
  "language_info": {
   "codemirror_mode": {
    "name": "ipython",
    "version": 3
   },
   "file_extension": ".py",
   "mimetype": "text/x-python",
   "name": "python",
   "nbconvert_exporter": "python",
   "pygments_lexer": "ipython3",
   "version": "3.6.0"
  }
 },
 "nbformat": 4,
 "nbformat_minor": 2
}
