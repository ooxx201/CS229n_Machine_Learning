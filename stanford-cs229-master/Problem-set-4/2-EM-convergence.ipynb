{
 "cells": [
  {
   "cell_type": "markdown",
   "metadata": {
    "deletable": true,
    "editable": true
   },
   "source": [
    "Suppose at $t$-step, $\\theta = \\theta^*$"
   ]
  },
  {
   "cell_type": "markdown",
   "metadata": {
    "deletable": true,
    "editable": true
   },
   "source": [
    "$$\n",
    "M = \\sum_i^m\\sum_{z^{(i)}} Q_i^*(z^{(i)}) \\log \\frac{p(x^{(i)}, z^{(i)}; \\theta)}{Q^*(z^{(i)})}\n",
    "$$"
   ]
  },
  {
   "cell_type": "markdown",
   "metadata": {
    "deletable": true,
    "editable": true
   },
   "source": [
    "where\n",
    "\n",
    "$$\n",
    "Q_i^*(z^{(i)}) = p(z^{(i)} | x^{(i)}; \\theta^*) = \\frac{p(x^{(i)}, z^{(i)}; \\theta^*)}{p(x^{(i)}; \\theta^*)}\n",
    "$$\n",
    "\n",
    "for each $i$, following the E-step. Note $Q_i^*(z^{(i)})$ is a constant indepedent of $\\theta$."
   ]
  },
  {
   "cell_type": "markdown",
   "metadata": {
    "deletable": true,
    "editable": true
   },
   "source": [
    "Take derivative of $M$ over $\\theta$\n",
    "\n",
    "\\begin{align*}\n",
    "\\nabla_{\\theta}{M} \n",
    "&= \\sum_i^m\\sum_{z^{(i)}} Q_i^*(z^{(i)}) \\frac{Q_i^*(z^{(i)})}{p(x^{(i)}, z^{(i)};\\theta)} \\frac{1}{Q_i^*(z^{(i)})} \\nabla_{\\theta}p(x^{(i)}, z^{(i)};\\theta) \\\\\n",
    "&= \\sum_i^m\\sum_{z^{(i)}} \\frac{p(x^{(i)}, z^{(i)}; \\theta^*)}{p(x^{(i)}; \\theta^*)} \\frac{\\nabla_{\\theta}p(x^{(i)}, z^{(i)};\\theta)}{p(x^{(i)}, z^{(i)};\\theta)} \\\\\n",
    "\\end{align*}"
   ]
  },
  {
   "cell_type": "markdown",
   "metadata": {
    "deletable": true,
    "editable": true
   },
   "source": [
    "Since $\\theta$ has converged to $\\theta^*$, setting $\\theta = \\theta^*$ will make $\\nabla_{\\theta}M = 0$."
   ]
  },
  {
   "cell_type": "markdown",
   "metadata": {
    "deletable": true,
    "editable": true
   },
   "source": [
    "\\begin{align*}\n",
    "\\nabla_{\\theta}{M}|_{\\theta = \\theta^*} \n",
    "&= \\sum_i^m\\sum_{z^{(i)}} \\frac{p(x^{(i)}, z^{(i)}; \\theta^*)}{p(x^{(i)}; \\theta^*)}\\frac{\\nabla_{\\theta}p(x^{(i)}, z^{(i)};\\theta)|_{\\theta = \\theta^*}}{p(x^{(i)}, z^{(i)};\\theta^*)} \\\\\n",
    "&= \\sum_i^m\\sum_{z^{(i)}} \\frac{\\nabla_{\\theta}p(x^{(i)}, z^{(i)};\\theta)|_{\\theta = \\theta^*}}{p(x^{(i)}; \\theta^*)} \\\\\n",
    "&= \\sum_i^m \\frac{\\nabla_{\\theta}p(x^{(i)}, \\theta)|_{\\theta = \\theta^*}}{p(x^{(i)}; \\theta^*)} \\\\\n",
    "&= \\sum_i^m \\nabla_{\\theta} \\log p(x^{(i)}; \\theta)|_{\\theta = \\theta^*} \\\\\n",
    "&= \\nabla_{\\theta}  \\sum_i^m \\log p(x^{(i)}; \\theta)|_{\\theta = \\theta^*} \\\\\n",
    "&= \\nabla_{\\theta} \\ell(\\theta) \\\\\n",
    "&= 0\n",
    "\\end{align*}"
   ]
  },
  {
   "cell_type": "markdown",
   "metadata": {
    "deletable": true,
    "editable": true
   },
   "source": [
    "Therefore, upon convergence, Letting $\\nabla_{\\theta}M = 0$ is equivalent to letting $\\nabla_{\\theta} \\ell = 0$."
   ]
  }
 ],
 "metadata": {
  "anaconda-cloud": {},
  "kernelspec": {
   "display_name": "Python 3",
   "language": "python",
   "name": "python3"
  },
  "language_info": {
   "codemirror_mode": {
    "name": "ipython",
    "version": 3
   },
   "file_extension": ".py",
   "mimetype": "text/x-python",
   "name": "python",
   "nbconvert_exporter": "python",
   "pygments_lexer": "ipython3",
   "version": "3.6.0"
  }
 },
 "nbformat": 4,
 "nbformat_minor": 2
}
